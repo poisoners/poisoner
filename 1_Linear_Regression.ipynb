{
 "cells": [
  {
   "cell_type": "markdown",
   "metadata": {
    "slideshow": {
     "slide_type": "skip"
    }
   },
   "source": [
    "[R语言各个包里面的数据集](https://blog.csdn.net/c1z2w3456789/article/details/50983713)\n"
   ]
  },
  {
   "cell_type": "markdown",
   "metadata": {
    "slideshow": {
     "slide_type": "slide"
    }
   },
   "source": [
    "<div style=\"font-size:64px;font-weight:bold;color:#445599;text-align:center\">线性回归</div>\n",
    "\n",
    "---"
   ]
  },
  {
   "cell_type": "markdown",
   "metadata": {
    "slideshow": {
     "slide_type": "slide"
    }
   },
   "source": [
    "# 监督学习的回归问题\n",
    "\n",
    "---"
   ]
  },
  {
   "cell_type": "markdown",
   "metadata": {
    "slideshow": {
     "slide_type": "slide"
    }
   },
   "source": [
    "假设“训练数据”(training data)为  \n",
    "\n",
    " <div style=\"font-size:48px;font-weight:bold;color:#aa0000;text-align:center\">$$\\left\\{ X_i,y_i \\right\\}_{i=1}^n$$</div>\n",
    " <table width=\"50%\">\n",
    "<tr>\n",
    "<td width=\"20%\" align=\"center\"> <p>$$\\left\\{X_i,y_i\\right\\}$$</p> </td> \n",
    "<td width=\"80%\" align=\"left\"> 第i位<b>个体</b>(individual)或<b>观测值</b>(observation)的数据<br>\n",
    "    或称<b>样例</b>(example)或<b>示例</b>(instance)</td>\n",
    "</tr>\n",
    "    \n",
    "<tr>    \n",
    "<td width=\"20%\" align=\"center\">$n$ </td>\n",
    "<td width=\"80%\" align=\"left\"><b>样本容量</b></td>\n",
    "</tr> \n",
    "    \n",
    "<tr>\n",
    "<td width=\"20%\" align=\"center\">$y_i$ </td>\n",
    "<td width=\"80%\" align=\"left\"><b>目标变量</b> (target)或<b>标签</b>(lable)<br>或<b>响应变量</b>(response variable)</td>\n",
    "        \n",
    "<tr>\n",
    "<td width=\"20%\" align=\"center\">$X_i$ </td> \n",
    "<td width=\"80%\" align=\"left\">p维<b>特征向量</b>(feature vector): $X_i = \\begin{bmatrix} x_{i1}\\\\ x_{i2}\\\\\\vdots\\\\x_{ip}\\end{bmatrix}$</td>\n",
    "</tr>\n",
    "</table>"
   ]
  },
  {
   "cell_type": "markdown",
   "metadata": {
    "slideshow": {
     "slide_type": "slide"
    }
   },
   "source": [
    "* 对于监督学习，其基本问题为使用特征向量 $X_i$ 预测目标变量 $y_i$ 。\n",
    "\n",
    "* 如果响应变量 $y_i$ 为连续变量，称为**“回归问题”(regression problem)**\n",
    "* 而如果 $y_i$ 为离散变量，称为**“分类问题”(classification problem)**\n",
    "\n",
    "\n",
    "* 本章关注回归问题。<br>\n",
    "即，训练数据$\\left\\{X_i,y_i\\right\\}_{i=1}^n$，来学得一个函数 $f(x_i)$ ，并以$f(x_i)$来预测$y_i$  。\n",
    "<div style=\"font-weight:bold;color:#aa0000\">\n",
    "$$\\left\\{X_i,y_i\\right\\}_{i=1}^n\\underset{\\text{学习}}\\Longrightarrow f(x_i)\\underset{\\text{预测}}\\Longrightarrow y_i$$\n",
    "</div>"
   ]
  },
  {
   "cell_type": "markdown",
   "metadata": {
    "slideshow": {
     "slide_type": "slide"
    }
   },
   "source": [
    "# “非参数方法”与“参数方法”\n",
    "\n",
    "---"
   ]
  },
  {
   "cell_type": "markdown",
   "metadata": {
    "slideshow": {
     "slide_type": "slide"
    }
   },
   "source": [
    "## “非参数方法”(nonparametric approach)；\n",
    "\n",
    "* 不对 $f(x_i)$ 的函数形式(functional form)作任何假设，\n",
    "* 因为既然不假设函数形式，则自然没有待估计的参数。\n",
    "\n",
    "* 非参数方法包括K近邻、决策树、以及基于决策树的装袋法、随机森林与提升法等。\n"
   ]
  },
  {
   "cell_type": "markdown",
   "metadata": {
    "slideshow": {
     "slide_type": "slide"
    }
   },
   "source": [
    "## 参数方法(parametric approach)\n",
    "* 对 $𝑓(𝑥_𝑖)$ 的函数形式作了具体的假设。\n",
    "* 此时，模型一般可写为\n",
    " $$𝑦_𝑖=𝑓(𝑥_𝑖;𝛽)+𝜀_𝑖$$\n",
    " 其中，β为待估计的未知参数。\n",
    " \n",
    "* 函数$𝑓(𝑥_𝑖;𝛽)$ 的具体形式可以是非常简单的线性函数，也可以是复杂的神经网络模型。\n",
    "* 参数方法与非参数方法适用于不同的场景，各有千秋。"
   ]
  },
  {
   "cell_type": "markdown",
   "metadata": {
    "slideshow": {
     "slide_type": "slide"
    }
   },
   "source": [
    "# 最优预测\n",
    "\n",
    "---"
   ]
  },
  {
   "cell_type": "markdown",
   "metadata": {
    "slideshow": {
     "slide_type": "slide"
    }
   },
   "source": [
    "* 如果使用 $𝑥_𝑖$ 预测 $𝑦_𝑖$ ，是否存在一个最优的预测函数 $𝑔(𝑥_𝑖)$ ？\n",
    " \n",
    "* 对于回归问题，如果使用 $𝑔(𝑥_𝑖)$  预测连续的响应变量𝑦_𝑖，则一般使用**“均方误差”(Mean Square Error，简记MSE)**作为对预测优良程度的度量：\n",
    "* $MSE=E[𝑦 −𝑔(𝑥)]^2$\n",
    "* 其中，期望算子E(.)为同时对(x, y)求期望。\n"
   ]
  },
  {
   "cell_type": "markdown",
   "metadata": {
    "slideshow": {
     "slide_type": "slide"
    }
   },
   "source": [
    "# 线性回归模型\n"
   ]
  },
  {
   "cell_type": "markdown",
   "metadata": {
    "slideshow": {
     "slide_type": "slide"
    }
   },
   "source": [
    "* 如果条件期望函数 $E(y_𝑖  |  X_𝑖)$ 为线性函数，则很容易估计。最简单的参数方法假设 $𝑓(𝑥_𝑖;𝛽)$为如下线性回归模型：\n",
    "\n",
    "$$𝑦_𝑖=𝛽_1 𝑥_{𝑖1}+ 𝛽_2 𝑥_{𝑖2}  + \\dots +  𝛽_𝑝 𝑥_{𝑖𝑝}+𝜀_𝑖         (𝑖=1,\\dots ,𝑛) $$\n",
    "\n",
    "* 其中， $𝜷=(𝛽_1,𝛽_2 ,\\dots,𝛽_𝑝)$ 均为待估计的未知参数，称为**“回归系数”(regression coefficients)**。\n",
    "* 如果方程中有常数项(即截距项)，则通常令第1个变量恒等于1，即$𝑥_{𝑖1}≡1, \\forall_𝑖$ 。\n",
    "* 本质上，线性回归模型通过特征向量的 $𝑥_𝑖$ 的线性组合(linear combination)来预测$𝑦_𝑖$ 。\n"
   ]
  },
  {
   "cell_type": "markdown",
   "metadata": {
    "slideshow": {
     "slide_type": "slide"
    }
   },
   "source": [
    "* 总结起来，线性模型有以下优点。\n",
    "* 第一，线性模型十分简单，且易于解释(explainable)。\n",
    "* 第二，根据微积分“以直代曲”的原理，即使 $𝑓(𝑥_𝑖;𝛽)$ 为非线性函数，在足够小的局部，一般也可用线性函数来近似。\n",
    "* 第三，线性模型虽然简单，但可作为更复杂模型的组成部分。因此，从线性模型入手，有助于理解机器学习的思想与方法。\n",
    "* 第四，有些现象本身就是近似线性的。以Engel(1857)对于食物开支占家庭收入比重(恩格尔系数)的经典研究为例。\n"
   ]
  },
  {
   "cell_type": "markdown",
   "metadata": {
    "slideshow": {
     "slide_type": "slide"
    }
   },
   "source": [
    "# “目标函数”(objective function)，“损失函数”(loss function)\n",
    "## 最小二乘法"
   ]
  },
  {
   "cell_type": "markdown",
   "metadata": {
    "slideshow": {
     "slide_type": "slide"
    }
   },
   "source": [
    "* 以一元回归为例，此时仅有1 个特征变量 $𝑥_𝑖$。\n",
    "* 最小二乘法的基本思想是，希望找到一个最佳拟合直线(fitted line)，使得所有数据点 $\\{x_i,y_i \\}_{i=1}^n$ 到此拟合超平面的距离最近。问题是如何度量此距离。\n",
    "* OLS 的任务为根据训练数据 $\\{x_i,y_i\\}_{(i=1)}^n$来估计回归方程 $𝑓(𝑥_𝑖 )=𝛼+𝛽𝑥_𝑖$ 。因此，希望在(x, y)平面上找到一条直线，使得此直线离所有数据点(观测值)最近。\n",
    "* 在此平面上,任意给定一条直线，$\\hat\\alpha+\\hat\\beta x_i$  ，可以计算每个点(观测值)到这条线的距离(在y方向的垂直距离)，$𝑒_𝑖≡𝑦_𝑖  −\\hat\\alpha+\\hat\\beta x_i$，称为“残差”(residual)。\n"
   ]
  },
  {
   "cell_type": "markdown",
   "metadata": {
    "slideshow": {
     "slide_type": "slide"
    }
   },
   "source": [
    "![image.png](./pic/regress_1.png)"
   ]
  },
  {
   "cell_type": "markdown",
   "metadata": {
    "slideshow": {
     "slide_type": "slide"
    }
   },
   "source": [
    "* 如果直接把残差加起来，$\\textstyle\\sum_{i=1}^{n}{e_{i}}$  ,则会出现正负相抵的现象。\n",
    "* 解决方法之一为使用绝对值，   $\\sum\\limits_{i=1}^{n}|e_{i}|=\\sum\\limits_{i=1}^{n}\\left|y_{i}-\\hat{\\alpha}-\\hat{\\beta}x_{i}\\right|$                                                 。\n",
    "* 但绝对值不易运算(比如无法微分)，故考虑其平方，称为**“残差平方和”**(Sum of Squared Residuals，简记SSR；或Residual Sum of Squares，简记RSS)。\n",
    "\n",
    "* 最小二乘法就是选择$\\hat\\alpha,\\hat\\beta$，使得残差平方和最小化；故名“最小二乘”(二乘即平方)。在数学上，可将OLS 的**“目标函数”**(objective function)，也称为**“损失函数”**(loss function)，写为\n",
    "$$\\operatorname*{min}_{\\hat{\\alpha},\\hat{\\beta}}\\sum_{i=1}^{n}e_{i}^{2}=\\sum_{i=1}^{n}\\left(y_{i}-\\hat{\\alpha}-\\hat{\\beta}x_{i}\\right)^{2}$$\n"
   ]
  },
  {
   "cell_type": "markdown",
   "metadata": {
    "slideshow": {
     "slide_type": "slide"
    }
   },
   "source": [
    "* 回到更一般的多元回归情形。为了简洁表达，引入向量与矩阵符号。\n",
    "* 注意到线性回归方程的右边主体部分其实是特征向量𝑥_𝑖  的线性组合，故可写为\n",
    " \n",
    " $$y_{i}=x_{i}^{'}\\beta+\\varepsilon_{i}\\qquad\\left(i=1,\\ldots,n\\right)$$\n",
    "* 其 中 ， 特 征 向 量 $x_{i}\\equiv\\left(x_{\\mathrm{i}1},x_{\\mathrm{i}2},\\ldots,x_{\\mathrm{i}p}\\right)^{\\prime}$， 而 参 数 向 量 $\\!\\beta\\equiv\\left(\\beta_{1},\\beta_{2},\\ldots,\\beta_{p}\\right)^{\\prime}$\n",
    "* 由于此方程对所有个体 $𝑖=1,…,𝑛$ 均成立，故将这n个方程叠放(stack)在一起可得：\n"
   ]
  },
  {
   "cell_type": "markdown",
   "metadata": {
    "slideshow": {
     "slide_type": "slide"
    }
   },
   "source": [
    "$$\\underbrace{\\begin{pmatrix}{y_{1}} \\\\ {y_{2}} \\\\ {\\vdots} \\\\ {y_{n}}\\end{pmatrix}}_{\\mathbf{y}}=\n",
    "\\underbrace{\\begin{pmatrix}{\\mathbf{x}_{1}^{\\prime}} \\\\ {\\mathbf{x}_{2}^{\\prime}} \\\\ {\\vdots} \\\\ {\\mathbf{x}_{n}^{\\prime}}\\end{pmatrix} }_{\\mathbf{x}}\\boldsymbol{\\beta}+\n",
    "\\underbrace{\\begin{pmatrix}{\\varepsilon_{1}} \\\\ {\\varepsilon_{2}} \\\\ {\\vdots} \\\\ {\\varepsilon_{n}}\\end{pmatrix}}_{\\mathbf{\\varepsilon}}$$\n",
    "* 定义\n",
    "\n",
    "$y\\equiv\\left(y_{1},y_{2},\\dots,y_{n}\\right)^{\\prime}$ \n",
    "\n",
    "$x\\equiv (x_1,x_2,\\dots,x_n)^{\\prime}$ \n",
    "\n",
    "$\\varepsilon\\equiv (\\varepsilon_1,\\varepsilon_2,\\dots,\\varepsilon_n)^{\\prime}$，则有\n",
    "\n",
    "$$y = {x\\beta} + \\varepsilon $$"
   ]
  },
  {
   "cell_type": "markdown",
   "metadata": {
    "slideshow": {
     "slide_type": "slide"
    }
   },
   "source": [
    "\n",
    "* 此方程简洁地概括了所有的训练数据 $\\mathrm{\\{ x_{i}, y_{i}\\}_{i=1}^{n}} $\n",
    "* 其中， $x\\equiv (x_1,x_2,\\dots,x_n)^{\\prime}$ ，称为“数据矩阵”(data matrix)\n",
    "* 或“设计矩阵”(designmatrix)，包含所有特征向量的信息：\n",
    "\n",
    "$$\\mathbf{X} \\equiv\\left(\\begin{array}{c}{\\mathbf{x}_{1}^{\\prime}} \\\\ {\\mathbf{x}_{2}^{\\prime}} \\\\ {\\vdots} \\\\ {\\mathbf{x}_{n}^{\\prime}}\\end{array}\\right)=\\left(\\begin{array}{cccc}{x_{11}} & {x_{12}} & {\\cdots} & {x_{1 p}} \\\\ {x_{21}} & {x_{22}} & {\\cdots} & {x_{2 p}} \\\\ {\\cdots} & {\\cdots} & {\\cdots} & {\\cdots} \\\\ {x_{n 1}} & {x_{n 2}} & {\\cdots} & {x_{n p}}\\end{array}\\right)=\\left(\\begin{array}{cccc}{1} & {x_{12}} & {\\cdots} & {x_{1 p}} \\\\ {1} & {x_{22}} & {\\cdots} & {x_{2 p}} \\\\ {\\cdots} & {\\cdots} & {\\cdots} & {\\cdots} \\\\ {1} & {x_{n 2}} & {\\cdots} & {x_{n p}}\\end{array}\\right) $$"
   ]
  },
  {
   "cell_type": "markdown",
   "metadata": {
    "slideshow": {
     "slide_type": "slide"
    }
   },
   "source": [
    "* 为了估计未知参数向量β ，对于β 的一个任意假想值(hypothetical value)$\\tilde\\beta$ (读作beta tilde)，记第i 个数据的拟合误差(即残差，residual) 为$e_{i}=y_{i}-x_{i}^{\\prime}\\hat{\\beta}$ 。残差向量的表达式：\n",
    "$$\\text{e}\\equiv\\left(e_{1},e_{2},\\cdot\\cdot\\cdot,e_{n}\\right)^{\\prime}\\equiv{\\bf y}-{\\bf x}\\tilde{\\beta}$$\n",
    "\n",
    "* 最小二乘法寻找能使 $\\textstyle\\sum_{i=1}^{n}e_{i}^{2}$ 残差平方和最小的$\\tilde\\beta$  。\n",
    "* 从几何上来看，如果是一元回归，就是要寻找最佳拟合的回归直线，使观测值$𝑦_𝑖$到该回归直线的距离之平方和最小。如果是二元回归，就是要寻找最佳拟合的回归平面。如果是更多元的回归，则是寻找最佳拟合的回归“超平面”(hyperplane)。\n"
   ]
  },
  {
   "cell_type": "markdown",
   "metadata": {
    "slideshow": {
     "slide_type": "slide"
    }
   },
   "source": [
    "* OLS 的最小化问题可写为\n",
    "\n",
    "$$\\begin{aligned} \\min _{\\hat{\\beta}} \\operatorname{SSR}(\\tilde{\\beta}) &\n",
    "=\\sum_{i=1}^{n} e_{i}^{2}=e^{\\prime} e \\\\ &\n",
    "=(y-\\mathbf{X} \\tilde{\\boldsymbol{\\beta}})^{\\prime}(\\mathbf{y}-\\mathbf{X} \\tilde{\\boldsymbol{\\beta}}) \\\\ &\n",
    "=\\left(y^{\\prime}-\\tilde{\\boldsymbol{\\beta}}^{\\prime} \\mathbf{X}^{\\prime}\\right)(y-X \\tilde{\\boldsymbol{\\beta}}) \\\\ &\n",
    "=y^{\\prime} y-\\mathbf{y}^{\\prime} \\mathbf{X} \\tilde{\\boldsymbol{\\beta}}-\\tilde{\\boldsymbol{\\beta}}^{\\prime} X^{\\prime} y+\\tilde{\\boldsymbol{\\beta}}^{\\prime} X^{\\prime} X \\tilde{\\boldsymbol{\\beta}} \\\\ &={y}^{\\prime} \\mathbf{y}-2 \\mathbf{y}^{\\prime} \\mathbf{X} \\tilde{\\boldsymbol{\\beta}}+\\tilde{\\boldsymbol{\\beta}}^{\\prime} X^{\\prime} X \\tilde{\\boldsymbol{\\beta}} \\end{aligned} $$\n",
    "\n",
    "\n",
    "\n",
    "\n",
    "\n",
    "* 在 $\\tilde\\beta$ 的参数空间，OLS 的损失函数$\\text{SSR}(\\tilde\\beta)$ 实际上是$\\tilde\\beta$的二次(型)函数。\n"
   ]
  },
  {
   "cell_type": "markdown",
   "metadata": {
    "slideshow": {
     "slide_type": "slide"
    }
   },
   "source": [
    "* 使用向量微分的规则，将$\\text{SSR}(\\tilde\\beta)$对向量 $\\tilde\\beta$ 求导，可得最小化的一阶条件(即梯度向量为0)：\n",
    "\n",
    "$$\\begin{aligned} \\frac{\\partial(\\mathrm{SSR})}{\\partial \\tilde{\\beta}} &=\\frac{\\partial\\left(\\mathrm{y}^{\\prime} \\mathrm{y}-2 \\mathrm{y}^{\\prime} \\mathrm{X} \\tilde{\\beta}+\\tilde{\\beta}^{\\prime} \\mathrm{X}^{\\prime} \\mathrm{X} \\tilde{\\beta}\\right)}{\\partial \\tilde{\\beta}} \\\\ &=-2 \\mathrm{X}^{\\prime} \\mathrm{y}+2 \\mathrm{X}^{\\prime} \\mathrm{X} \\tilde{\\beta}=0 \\end{aligned}$$\n",
    "\n",
    "* 其中，由于 $y'y$不含 $\\tilde\\beta$ ($y'y$相当于常数)，故 $\\frac{\\partial(\\mathbf{y'y}) }{\\partial\\tilde\\beta} = 0$                   。\n",
    "* 将上式移项可知，最小二乘估计量 $\\hat\\beta$  须满足\n",
    "* 这是包含 K 个方程与 K 个未知数的“正规方程组”(normal equations)。\n"
   ]
  },
  {
   "cell_type": "markdown",
   "metadata": {
    "slideshow": {
     "slide_type": "slide"
    }
   },
   "source": [
    "* 如果𝐾×𝐾维矩阵 $(X'X)$ 可逆，可求解OLS估计量：\n",
    "\n",
    "$$\\mathbf{\\hat\\beta \\equiv (X'X)^{-1}X'y}$$\n",
    "\n",
    "* 什么时候 $(X'X)$ 可逆呢？\n",
    "* 这要求数据矩阵X满列秩，𝑟𝑎𝑛𝑘(𝑋) = 𝐾，即矩阵X没有多余的的列向量。\n",
    "* 换言之，不存在某个列向量可被其他列向量线性表出的情形(比如，一个变量是另一变量的两倍)。\n"
   ]
  },
  {
   "cell_type": "markdown",
   "metadata": {
    "slideshow": {
     "slide_type": "slide"
    }
   },
   "source": [
    "* 因此，OLS 一般不适用于“高维数据”(high-dimensional data)。\n",
    "* 由于高维数据的变量个数大于样本容量 （ 即 p>n ）， 故 𝑟𝑎𝑛𝑘(𝑋)≤𝑛<𝑝 (矩阵X的秩小于或等于其行数n)，故数据矩阵X不满列秩。\n",
    "* 此时，$(𝑋′ 𝑋)^{−1}$不存在，故OLS 没有唯一解。\n",
    "* 对于高维回归，一般须进行“正则化”(regularization)处理，即在损失函数中加入“惩罚项”(penalty term)，进行“惩罚回归”(penalized regression) 。\n"
   ]
  },
  {
   "cell_type": "markdown",
   "metadata": {
    "slideshow": {
     "slide_type": "slide"
    }
   },
   "source": [
    "# 拟合优度\n",
    "\n",
    "---"
   ]
  },
  {
   "cell_type": "markdown",
   "metadata": {
    "slideshow": {
     "slide_type": "slide"
    }
   },
   "source": [
    "* **命题**(平方和分解公式)：如果有常数项，则可将响应变量的**离差平方和**\n",
    "* $\\sum_{𝑖=1}^n(y_𝑖  −\\bar y )^2$ 分解为\n",
    " \n",
    " $$\\sum_{i=1}^{n}(y_i - \\bar y)^{2} = \\sum_{i=1}^{n}(\\hat{y}_i - \\bar y)^{2} + \\sum_{i=1}^{n}(y_i - \\hat{y})^2$$\n",
    " \n",
    "* 即：**SST(离差平方和)=ESS(回归平方和)+RSS(残差平方和)**\n",
    " \n",
    "* 其中，$\\bar{y}\\equiv\\frac{1}{n}\\sum_{i=1}^{n}y_i $ 为样本均值。\n"
   ]
  },
  {
   "cell_type": "markdown",
   "metadata": {
    "slideshow": {
     "slide_type": "slide"
    }
   },
   "source": [
    "* **定义 “拟合优度”(goodness of fit)  $R^2$ 为**\n",
    " \n",
    "$$ 0 \\leq R^{2} \\equiv \n",
    "\\frac{\\displaystyle{\\sum_{i=1}^{n}}\\left(\\hat{y}_{i}-\\bar{y}\\right)^{2}}{\\displaystyle{\\sum_{i=1}^{n}}\\left(y_{i}-\\bar{y}\\right)^{2}}\n",
    "=1-\\frac{\\displaystyle{\\sum_{i=1}^{n}} (y_i - \\hat{y})_{i}^{2}}{\\displaystyle{\\sum_{i=1}^{n}}\\left(y_{i}-\\bar{y}\\right)^{2}} \\leq 1$$\n",
    " \n",
    "* 拟合优度$𝑅^2$ 也称为“可决系数”(coefficient of determination)。\n",
    "* $𝑅^2$ 越高，则说明拟合程度越好。如果向回归方程中增加解释变量，则$𝑅^2$ 必然只增不减，因为至少可以让新增变量的系数为0 而保持$𝑅^2$ 不变。\n",
    "* 过高的$𝑅^2$ 可能意味着模型在样本内过度拟合，反而导致其样本外预测的能力下降。\n"
   ]
  },
  {
   "cell_type": "markdown",
   "metadata": {},
   "source": [
    "* **均方误差 MSE**\n",
    "\n",
    "$$MSE = \\frac{1}{n} \\displaystyle{\\sum_{i=1}^n}(y_i - \\hat y_i)^2$$\n",
    "\n",
    "其中，n表示样本数量，yᵢ表示第i个样本的实际值，ŷᵢ表示第i个样本的预测值，Σ表示对所有样本求和。\n",
    "\n",
    "较低的MSE表示预测值与实际值之间的拟合更好。"
   ]
  },
  {
   "cell_type": "markdown",
   "metadata": {
    "slideshow": {
     "slide_type": "slide"
    }
   },
   "source": [
    "# 过拟合与泛化能力\n",
    "\n",
    "---"
   ]
  },
  {
   "cell_type": "markdown",
   "metadata": {
    "slideshow": {
     "slide_type": "slide"
    }
   },
   "source": [
    "* 线性模型可视为一阶泰勒近似。为此，可以考虑加入高次项。但如果加入太多高次项，则会引起 **“过拟合”(overfit)** 。\n",
    "* 作为一个例子，使用“模拟数据”(simulated data)来考察过拟合问题。\n",
    "* 使用模拟数据的好处在于，我们知道数据生成过程，即数据中真正的信号部分 𝑓(𝑥) (也是最优预测)，并将估计结果$\\hat f(𝑥)$与𝑓(𝑥)相比。假设数据生成过程为\n",
    "\n",
    "$$y_i = \\sin(2\\pi x_i) + \\varepsilon_i \\quad(i = 1,\\dots,10) $$\n",
    " \n",
    "* 其中，自变量$x\\sim U[0,1]$(在区间[0,1]服从均匀分布)，扰动项 $\\varepsilon\\sim N(0,0.3^{2})$  (均值为 0，标准差为0.3的正态分布)，而样本容量为𝑛 =10。\n"
   ]
  },
  {
   "cell_type": "markdown",
   "metadata": {
    "slideshow": {
     "slide_type": "slide"
    }
   },
   "source": [
    "## 创建数据集"
   ]
  },
  {
   "cell_type": "code",
   "execution_count": null,
   "metadata": {},
   "outputs": [],
   "source": [
    "#import random\n",
    "#import math\n",
    "import numpy as np\n",
    "from matplotlib import pyplot as plt\n",
    "np.random.seed(1)                 # 创建随机数种子，保证每次运行该代码得到的随机数一致\n",
    "x = np.random.uniform(0,1,50)     # 创建符合平均分布的nparray"
   ]
  },
  {
   "cell_type": "code",
   "execution_count": 2,
   "metadata": {},
   "outputs": [
    {
     "data": {
      "text/plain": [
       "array([4.17022005e-01, 7.20324493e-01, 1.14374817e-04, 3.02332573e-01,\n",
       "       1.46755891e-01, 9.23385948e-02, 1.86260211e-01, 3.45560727e-01,\n",
       "       3.96767474e-01, 5.38816734e-01, 4.19194514e-01, 6.85219500e-01,\n",
       "       2.04452250e-01, 8.78117436e-01, 2.73875932e-02, 6.70467510e-01,\n",
       "       4.17304802e-01, 5.58689828e-01, 1.40386939e-01, 1.98101489e-01,\n",
       "       8.00744569e-01, 9.68261576e-01, 3.13424178e-01, 6.92322616e-01,\n",
       "       8.76389152e-01, 8.94606664e-01, 8.50442114e-02, 3.90547832e-02,\n",
       "       1.69830420e-01, 8.78142503e-01, 9.83468338e-02, 4.21107625e-01,\n",
       "       9.57889530e-01, 5.33165285e-01, 6.91877114e-01, 3.15515631e-01,\n",
       "       6.86500928e-01, 8.34625672e-01, 1.82882773e-02, 7.50144315e-01,\n",
       "       9.88861089e-01, 7.48165654e-01, 2.80443992e-01, 7.89279328e-01,\n",
       "       1.03226007e-01, 4.47893526e-01, 9.08595503e-01, 2.93614148e-01,\n",
       "       2.87775339e-01, 1.30028572e-01])"
      ]
     },
     "execution_count": 2,
     "metadata": {},
     "output_type": "execute_result"
    }
   ],
   "source": [
    "x"
   ]
  },
  {
   "cell_type": "code",
   "execution_count": null,
   "metadata": {},
   "outputs": [],
   "source": [
    "# 构建y，加入干扰项\n",
    "y = np.sin(2*np.pi*x)+np.random.normal(loc=0.0, scale=0.3, size=50)"
   ]
  },
  {
   "cell_type": "code",
   "execution_count": 3,
   "metadata": {},
   "outputs": [
    {
     "data": {
      "text/plain": [
       "array([ 0.29191341, -1.23622894, -0.2006552 ,  0.94262621,  0.46167563,\n",
       "        0.61849962,  1.41881115,  1.04770839,  0.54654381, -0.50777066,\n",
       "        0.262035  , -0.4105651 ,  0.97457015, -0.88422031,  0.22850795,\n",
       "       -0.24764149,  0.53257133, -0.17529727,  0.86211177,  0.84162782,\n",
       "       -1.29235591, -0.30290211,  0.85897354, -0.75906253, -0.44921306,\n",
       "       -0.33552735,  0.5949567 ,  0.5084755 ,  0.64947349, -0.31714763,\n",
       "        0.73322926,  0.38621563, -0.11495607, -0.22955028, -0.59456466,\n",
       "        1.37240817, -0.26578648, -1.2808858 , -0.31857821, -1.15133935,\n",
       "       -0.0219196 , -0.73708291,  1.07645118, -1.57635969,  0.51220063,\n",
       "        0.56996953, -0.47422837,  1.19128994,  0.90526616,  0.66886409])"
      ]
     },
     "execution_count": 3,
     "metadata": {},
     "output_type": "execute_result"
    }
   ],
   "source": [
    "y"
   ]
  },
  {
   "cell_type": "code",
   "execution_count": 1,
   "metadata": {},
   "outputs": [
    {
     "data": {
      "text/plain": [
       "<function matplotlib.pyplot.show(close=None, block=None)>"
      ]
     },
     "execution_count": 1,
     "metadata": {},
     "output_type": "execute_result"
    },
    {
     "data": {
      "image/png": "[encoded data removed]",
      "text/plain": [
       "<Figure size 640x480 with 1 Axes>"
      ]
     },
     "metadata": {},
     "output_type": "display_data"
    }
   ],
   "source": [
    "# 可视化\n",
    "plt.plot(x,y,\"o\")                 # 绘制x，y散点图\n",
    "\n",
    "w = np.arange(0,1,0.01)\n",
    "plt.plot(w,np.sin(2*np.pi*w))     # 绘制函数曲线\n",
    "plt.show"
   ]
  },
  {
   "cell_type": "markdown",
   "metadata": {
    "slideshow": {
     "slide_type": "slide"
    }
   },
   "source": [
    "## 将数据写入文件"
   ]
  },
  {
   "cell_type": "code",
   "execution_count": 26,
   "metadata": {},
   "outputs": [],
   "source": [
    "f = open('ex0.txt','w')\n",
    "for i in range(0,49):\n",
    "    f.write(\"1.000000\\t\" + str(x[i]) + \"\\t\" + str(y[i]) + \"\\n\")\n",
    "f.close()"
   ]
  },
  {
   "cell_type": "markdown",
   "metadata": {
    "slideshow": {
     "slide_type": "slide"
    }
   },
   "source": [
    "## 局部加权线性回归\n"
   ]
  },
  {
   "cell_type": "code",
   "execution_count": 27,
   "metadata": {},
   "outputs": [],
   "source": [
    "# -*- coding:utf-8 -*-\n",
    "from matplotlib.font_manager import FontProperties\n",
    "import matplotlib.pyplot as plt\n",
    "import numpy as np\n",
    "def loadDataSet(fileName):\n",
    "    \"\"\"\n",
    "    函数说明:加载数据\n",
    "    Parameters:\n",
    "        fileName - 文件名\n",
    "    Returns:\n",
    "        xArr - x数据集\n",
    "        yArr - y数据集\n",
    "    Website:http://www.cuijiahua.com/\n",
    "    Modify:\n",
    "        2017-11-12\n",
    "    \"\"\"\n",
    "    numFeat = len(open(fileName).readline().split('\\t')) - 1\n",
    "    xArr = []; yArr = []\n",
    "    fr = open(fileName)\n",
    "    for line in fr.readlines():\n",
    "        lineArr =[]\n",
    "        curLine = line.strip().split('\\t')\n",
    "        for i in range(numFeat):\n",
    "            lineArr.append(float(curLine[i]))\n",
    "        xArr.append(lineArr)\n",
    "        yArr.append(float(curLine[-1]))\n",
    "    return xArr, yArr\n",
    "\n",
    "def plotlwlrRegression():\n",
    "    \"\"\"\n",
    "    函数说明:绘制多条局部加权回归曲线\n",
    "    Parameters:\n",
    "        无\n",
    "    Returns:\n",
    "        无\n",
    "    Website:http://www.cuijiahua.com/\n",
    "    Modify:\n",
    "        2017-11-15\n",
    "    \"\"\"\n",
    "    #font = FontProperties(fname=r\"c:\\windows\\fonts\\simsun.ttc\", size=14)\n",
    "    xArr, yArr = loadDataSet('ex0.txt')                                    #加载数据集\n",
    "    yHat_1 = lwlrTest(xArr, xArr, yArr, 1.0)                            #根据局部加权线性回归计算yHat\n",
    "    yHat_2 = lwlrTest(xArr, xArr, yArr, 0.1)                            #根据局部加权线性回归计算yHat\n",
    "    yHat_3 = lwlrTest(xArr, xArr, yArr, 0.05)                            #根据局部加权线性回归计算yHat\n",
    "    yHat_4 = lwlrTest(xArr, xArr, yArr, 0.01)                            #根据局部加权线性回归计算yHat\n",
    "    xMat = np.mat(xArr)                                                    #创建xMat矩阵\n",
    "    yMat = np.mat(yArr)                                                    #创建yMat矩阵\n",
    "    srtInd = xMat[:, 1].argsort(0)                                        #排序，返回索引值\n",
    "    xSort = xMat[srtInd][:,0,:]\n",
    "    plt.rcParams['font.sans-serif'] = \"SimHei\"\n",
    "    plt.rcParams['font.size'] = 10\n",
    "    plt.rcParams['axes.unicode_minus']=False\n",
    "    fig, axs = plt.subplots(nrows=4, ncols=1,sharex=False, sharey=False, figsize=(10,8))                                        \n",
    "    axs[0].plot(xSort[:, 1], yHat_1[srtInd], c = 'red')                        #绘制回归曲线\n",
    "    axs[1].plot(xSort[:, 1], yHat_2[srtInd], c = 'red')                        #绘制回归曲线\n",
    "    axs[2].plot(xSort[:, 1], yHat_3[srtInd], c = 'red')                        #绘制回归曲线\n",
    "    axs[3].plot(xSort[:, 1], yHat_4[srtInd], c = 'red')\n",
    "    axs[0].scatter(xMat[:,1].flatten().A[0], yMat.flatten().A[0], s = 20, c = 'blue', alpha = .5)                #绘制样本点\n",
    "    axs[1].scatter(xMat[:,1].flatten().A[0], yMat.flatten().A[0], s = 20, c = 'blue', alpha = .5)                #绘制样本点\n",
    "    axs[2].scatter(xMat[:,1].flatten().A[0], yMat.flatten().A[0], s = 20, c = 'blue', alpha = .5)                #绘制样本点\n",
    "    axs[3].scatter(xMat[:,1].flatten().A[0], yMat.flatten().A[0], s = 20, c = 'blue', alpha = .5)\n",
    "    #设置标题,x轴label,y轴label\n",
    "    axs0_title_text = axs[0].set_title(u'局部加权回归曲线,k=1.0')\n",
    "    axs1_title_text = axs[1].set_title(u'局部加权回归曲线,k=0.1')\n",
    "    axs2_title_text = axs[2].set_title(u'局部加权回归曲线,k=0.05')\n",
    "    axs3_title_text = axs[3].set_title(u'局部加权回归曲线,k=0.01')  #,FontProperties=font\n",
    "    plt.setp(axs0_title_text, size=8, weight='bold', color='red')  \n",
    "    plt.setp(axs1_title_text, size=8, weight='bold', color='red')  \n",
    "    plt.setp(axs2_title_text, size=8, weight='bold', color='red')  \n",
    "    plt.setp(axs3_title_text, size=8, weight='bold', color='red')\n",
    "    plt.xlabel('X')\n",
    "    plt.show()"
   ]
  },
  {
   "cell_type": "code",
   "execution_count": 28,
   "metadata": {},
   "outputs": [],
   "source": [
    "def lwlr(testPoint, xArr, yArr, k = 1.0):\n",
    "    \"\"\"\n",
    "    函数说明:使用局部加权线性回归计算回归系数w\n",
    "    Parameters:\n",
    "        testPoint - 测试样本点\n",
    "        xArr - x数据集\n",
    "        yArr - y数据集\n",
    "        k - 高斯核的k,自定义参数\n",
    "    Returns:\n",
    "        ws - 回归系数\n",
    "    Website:http://www.cuijiahua.com/\n",
    "    Modify:\n",
    "        2017-11-15\n",
    "    \"\"\"\n",
    "    xMat = np.mat(xArr); yMat = np.mat(yArr).T\n",
    "    m = np.shape(xMat)[0]\n",
    "    weights = np.mat(np.eye((m)))                                        #创建权重对角矩阵\n",
    "    for j in range(m):                                                  #遍历数据集计算每个样本的权重\n",
    "        diffMat = testPoint - xMat[j, :]                                 \n",
    "        weights[j, j] = np.exp(diffMat * diffMat.T/(-2.0 * k**2))\n",
    "    xTx = xMat.T * (weights * xMat)                                        \n",
    "    if np.linalg.det(xTx) == 0.0:\n",
    "        print(\"矩阵为奇异矩阵,不能求逆\")\n",
    "        return\n",
    "    ws = xTx.I * (xMat.T * (weights * yMat))                            #计算回归系数\n",
    "    return testPoint * ws"
   ]
  },
  {
   "cell_type": "code",
   "execution_count": 29,
   "metadata": {},
   "outputs": [],
   "source": [
    "def lwlrTest(testArr, xArr, yArr, k=1.0):  \n",
    "    \"\"\"\n",
    "    函数说明:局部加权线性回归测试\n",
    "    Parameters:\n",
    "        testArr - 测试数据集\n",
    "        xArr - x数据集\n",
    "        yArr - y数据集\n",
    "        k - 高斯核的k,自定义参数\n",
    "    Returns:\n",
    "        ws - 回归系数\n",
    "    Website:\n",
    "http://www.cuijiahua.com/\n",
    "    Modify:\n",
    "        2017-11-15\n",
    "    \"\"\"\n",
    "    m = np.shape(testArr)[0]                                            #计算测试数据集大小\n",
    "    yHat = np.zeros(m)    \n",
    "    for i in range(m):                                                    #对每个样本点进行预测\n",
    "        yHat[i] = lwlr(testArr[i],xArr,yArr,k)\n",
    "    return yHat"
   ]
  },
  {
   "cell_type": "code",
   "execution_count": 30,
   "metadata": {
    "slideshow": {
     "slide_type": "slide"
    }
   },
   "outputs": [
    {
     "data": {
      "image/png": "[encoded data removed]",
      "text/plain": [
       "<Figure size 1000x800 with 4 Axes>"
      ]
     },
     "metadata": {},
     "output_type": "display_data"
    }
   ],
   "source": [
    "if __name__ == '__main__':\n",
    "    plotlwlrRegression()"
   ]
  },
  {
   "cell_type": "markdown",
   "metadata": {
    "slideshow": {
     "slide_type": "slide"
    }
   },
   "source": [
    "# 偏差与方差的权衡\n",
    "\n",
    "---"
   ]
  },
  {
   "cell_type": "markdown",
   "metadata": {
    "slideshow": {
     "slide_type": "slide"
    }
   },
   "source": [
    "* 从上节可知，随着模型复杂程度的增加，测试误差一般呈现出U 型的曲线特征，即先下降而后上升。\n",
    "* 为什么测试误差一般呈U 型？事实上，这受到两种不同力量的影响，即偏差与方差。\n",
    "* **“偏差”(bias)** 指的是估计量是否有系统误差(比如，系统性高估或低估)。给定$x$，则估计量 $\\hat f(x)$ 的偏差定义为\n",
    "\n",
    "$$\\text{Bias}(\\hat f (x)) = E(\\hat f (x) - f(x)) $$\n",
    " \n",
    "* 由上式可知，偏差度量的是在大量重复抽样过程中，$\\hat f(x)$ 对于 $f(x)$的平均偏离程度。\n"
   ]
  },
  {
   "cell_type": "code",
   "execution_count": null,
   "metadata": {},
   "outputs": [],
   "source": []
  },
  {
   "cell_type": "markdown",
   "metadata": {
    "slideshow": {
     "slide_type": "slide"
    }
   },
   "source": [
    "* **“方差”(variance)** 则衡量在大量重复抽样过程中，估计量 $\\hat f(x)$ 本身围绕着其期望值 $E \\hat f(x)$ 的波动幅度，其定义为\n",
    "\n",
    "$$\\text{Var}(\\hat f (x)) = E[\\hat f (x) - E\\hat f(x)]^2 $$\n",
    " \n",
    "* 给定 $x$，估计量 $\\hat f(x)$ 的均方误差可作如下分解：\n"
   ]
  },
  {
   "cell_type": "markdown",
   "metadata": {
    "slideshow": {
     "slide_type": "slide"
    }
   },
   "source": [
    "![image.png](./pic/regress_2.png)\n",
    "\n",
    "<center>偏差与方差的直观图示</center>\n"
   ]
  },
  {
   "cell_type": "markdown",
   "metadata": {
    "slideshow": {
     "slide_type": "slide"
    }
   },
   "source": [
    "* 通常来说，偏差平方与方差之间存在着此消彼长的替代关系。当模型过于简单时，则估计量 $\\hat f(x)$ 的偏差较大，但方差较小；此时存在欠拟合。\n",
    "* 随着模型的复杂程度增加，估计量 $\\hat f(x)$ 越来越接近于数据，故偏差变小；但由于数据包含噪音，故紧跟数据使得方差随之增大，此时易出现过拟合。\n",
    "* 因此，在选择模型复杂程度时，存在“偏差与方差的权衡”(bias-variancetrade-off)，即在某合适的模型复杂程度，模型的均方误差达到最小值。\n"
   ]
  },
  {
   "cell_type": "markdown",
   "metadata": {
    "slideshow": {
     "slide_type": "slide"
    }
   },
   "source": [
    "# 模型评估(泛化能力评估)\n",
    "\n",
    "---"
   ]
  },
  {
   "cell_type": "markdown",
   "metadata": {
    "slideshow": {
     "slide_type": "slide"
    }
   },
   "source": [
    "* 统计学的传统方法是使用“信息准则”(informationcriterion)，对过于复杂的模型进行惩罚。比如，常用的**Akaike Information Criterion (AIC)信息准则**为\n",
    "\n",
    "$$ \\underset{p}{\\min} \\, \\text{AIC} \\equiv \\ln(\\text{MSE}) + \\frac{2}{n}p$$\n",
    "\n",
    "* 其中，右边第一项为对模型拟合度的奖励(减少均方误差MSE)，而第二项为对变量过多的惩罚(为变量个数 p 的增函数)。当 K 上升时，第一项下降而第二项上升。\n",
    "* 通过选择变量个数 p，最小化 AIC，达到在模型拟合度与简洁性(parsimony)之间的权衡，以避免过拟合。\n"
   ]
  },
  {
   "cell_type": "markdown",
   "metadata": {
    "slideshow": {
     "slide_type": "slide"
    }
   },
   "source": [
    "* 然而，信息准则的原理依赖于大样本理论的一些假设，在有限样本中未必能选出预测能力最优的模型。\n",
    "* 机器学习一般并不使用信息准则来评估模型，而直接通过**“验证集法”**或**“交叉验证”**来度量模型的泛化能力。"
   ]
  },
  {
   "cell_type": "markdown",
   "metadata": {
    "slideshow": {
     "slide_type": "slide"
    }
   },
   "source": [
    "## 验证集法\n",
    "---\n",
    "* 在使用“验证集法”(validation set approach)时，先将样本数据随机地一分为二，其中大部分(比如70%)作为**训练集**，而将其余的小部分(比如30%)作为**“验证集”**(validation set)或“保留集”(hold-out set)。\n",
    "* 在估计模型时，仅使用训练集；然后在验证集中进行样本外预测，并计算“验证集误差”(validation set error)，以此估计测试误差(test error)。"
   ]
  },
  {
   "cell_type": "markdown",
   "metadata": {
    "slideshow": {
     "slide_type": "slide"
    }
   },
   "source": [
    "* 验证集法操作方便，但有两个缺点。首先，验证集法的结果取决于随机分组。在使用不同的随机数种子，将数据分为不同的训练集与验证集时，其验证集误差可能波动较大。\n",
    "* 其次，在使用验证集法时，仅使用训练集的部分数据来估计模型，浪费了验证集的那部分信息，故估计效率较低。\n",
    "\n",
    "* 这意味着，与使用整个样本进行估计相比，**验证集法可能高估测试误差**。\n"
   ]
  },
  {
   "cell_type": "markdown",
   "metadata": {
    "slideshow": {
     "slide_type": "slide"
    }
   },
   "source": [
    "## 交叉验证\n",
    "---\n",
    "* 在机器学习的实践中，大量使用 **“K 折交叉验证”(k-fold Cross Validation，简记K-fold CV)** 来度量测试误差；其中K 一般取5 或10。\n",
    "* 以 10 折交叉验证为例。首先将样本数据随机地分为大致相同的10 等分。每次均留出一折(约十分之一样本)作为验证集，而将其余九折(约十分之九样本)作为训练集，以训练集估计模型，然后在验证集中进行预测，并计算验证集均方误差。最后，将所有验证集均方误差进行简单算术平均，即为“交叉验证误差”(cross-validation error)，可作为对测试误差的估计。\n",
    "* 具体来说，如果将留出第k 折所得的验证集均方误差记为MSEk ，则K折交叉验证所得的交叉验证误差为\n",
    "\n",
    "$$\\text{CV}_{(K)} = \\frac{1}{K}\\sum_{k=1} ^{K} \\text{MSE}_k $$"
   ]
  },
  {
   "cell_type": "markdown",
   "metadata": {
    "slideshow": {
     "slide_type": "slide"
    }
   },
   "source": [
    "![image.png](./pic/regress_3.png)\n",
    "* 10 折交叉验证示意图\n",
    "* K 折交叉验证正好弥补了验证集法的缺陷。由于交叉验证误差为K 个验证集误差之平均，故很大程度上避免验证集法的随机性与波动性。而且，在进行交叉验证时，所有数据均有机会归入训练集，故其估计效率高于验证集法。\n"
   ]
  },
  {
   "cell_type": "markdown",
   "metadata": {
    "slideshow": {
     "slide_type": "slide"
    }
   },
   "source": [
    "* 特别地，如果样本容量较小，还可使用**“留一交叉验证”(Leave-One-Out CV，简记LOOCV)**。事实上，这就是n折交叉验证，其中n为样本容量。在进行LOOCV 时，将样本数据等分为n折，每折仅包含一个样本点，故其估计结果不再有随机性。\n",
    "* 由于每次均使用(n - 1)个数据去预测留出的1 个数据，故总共需要估计n。如果样本容量n很大，则LOOCV 的时间开销也将很大。\n",
    "* 实践中经常使用 5 折或10 折交叉验证。考虑到10 折交叉验证的结果仍可能依赖于随机分组，也可以将10 折交叉验证重复10 次(每次使用不同的随机种子分组)，然后将这10 次10 折交叉验证的结果再次进行平均。\n"
   ]
  },
  {
   "cell_type": "markdown",
   "metadata": {
    "slideshow": {
     "slide_type": "slide"
    }
   },
   "source": [
    "# 简单线性回归演示\n",
    "---"
   ]
  },
  {
   "cell_type": "markdown",
   "metadata": {
    "slideshow": {
     "slide_type": "slide"
    }
   },
   "source": [
    "## 导入数据"
   ]
  },
  {
   "cell_type": "code",
   "execution_count": 4,
   "metadata": {
    "slideshow": {
     "slide_type": "slide"
    }
   },
   "outputs": [
    {
     "name": "stdout",
     "output_type": "stream",
     "text": [
      "观测值： 235 个\n"
     ]
    },
    {
     "data": {
      "text/html": [
       "<div>\n",
       "<style scoped>\n",
       "    .dataframe tbody tr th:only-of-type {\n",
       "        vertical-align: middle;\n",
       "    }\n",
       "\n",
       "    .dataframe tbody tr th {\n",
       "        vertical-align: top;\n",
       "    }\n",
       "\n",
       "    .dataframe thead th {\n",
       "        text-align: right;\n",
       "    }\n",
       "</style>\n",
       "<table border=\"1\" class=\"dataframe\">\n",
       "  <thead>\n",
       "    <tr style=\"text-align: right;\">\n",
       "      <th></th>\n",
       "      <th>Unnamed: 0</th>\n",
       "      <th>income</th>\n",
       "      <th>foodexp</th>\n",
       "    </tr>\n",
       "  </thead>\n",
       "  <tbody>\n",
       "    <tr>\n",
       "      <th>0</th>\n",
       "      <td>1</td>\n",
       "      <td>420.157651</td>\n",
       "      <td>255.839425</td>\n",
       "    </tr>\n",
       "    <tr>\n",
       "      <th>1</th>\n",
       "      <td>2</td>\n",
       "      <td>541.411707</td>\n",
       "      <td>310.958667</td>\n",
       "    </tr>\n",
       "    <tr>\n",
       "      <th>2</th>\n",
       "      <td>3</td>\n",
       "      <td>901.157457</td>\n",
       "      <td>485.680014</td>\n",
       "    </tr>\n",
       "    <tr>\n",
       "      <th>3</th>\n",
       "      <td>4</td>\n",
       "      <td>639.080229</td>\n",
       "      <td>402.997356</td>\n",
       "    </tr>\n",
       "    <tr>\n",
       "      <th>4</th>\n",
       "      <td>5</td>\n",
       "      <td>750.875606</td>\n",
       "      <td>495.560775</td>\n",
       "    </tr>\n",
       "  </tbody>\n",
       "</table>\n",
       "</div>"
      ],
      "text/plain": [
       "   Unnamed: 0      income     foodexp\n",
       "0           1  420.157651  255.839425\n",
       "1           2  541.411707  310.958667\n",
       "2           3  901.157457  485.680014\n",
       "3           4  639.080229  402.997356\n",
       "4           5  750.875606  495.560775"
      ]
     },
     "execution_count": 4,
     "metadata": {},
     "output_type": "execute_result"
    }
   ],
   "source": [
    "import pandas as pd                    #导入pandas库\n",
    "engel = pd.read_csv(\"engel.csv\")        #使用pandas的read_csv方法读取csv文件\n",
    "print(\"观测值：\",engel.shape[0],\"个\")   #使用DataFrame的shape方法查看数据结构\n",
    "engel.head()"
   ]
  },
  {
   "cell_type": "code",
   "execution_count": 5,
   "metadata": {},
   "outputs": [
    {
     "data": {
      "text/html": [
       "<div>\n",
       "<style scoped>\n",
       "    .dataframe tbody tr th:only-of-type {\n",
       "        vertical-align: middle;\n",
       "    }\n",
       "\n",
       "    .dataframe tbody tr th {\n",
       "        vertical-align: top;\n",
       "    }\n",
       "\n",
       "    .dataframe thead th {\n",
       "        text-align: right;\n",
       "    }\n",
       "</style>\n",
       "<table border=\"1\" class=\"dataframe\">\n",
       "  <thead>\n",
       "    <tr style=\"text-align: right;\">\n",
       "      <th></th>\n",
       "      <th>Unnamed: 0</th>\n",
       "      <th>income</th>\n",
       "      <th>foodexp</th>\n",
       "    </tr>\n",
       "  </thead>\n",
       "  <tbody>\n",
       "    <tr>\n",
       "      <th>count</th>\n",
       "      <td>235.000000</td>\n",
       "      <td>235.000000</td>\n",
       "      <td>235.000000</td>\n",
       "    </tr>\n",
       "    <tr>\n",
       "      <th>mean</th>\n",
       "      <td>118.000000</td>\n",
       "      <td>982.473044</td>\n",
       "      <td>624.150111</td>\n",
       "    </tr>\n",
       "    <tr>\n",
       "      <th>std</th>\n",
       "      <td>67.982841</td>\n",
       "      <td>519.230879</td>\n",
       "      <td>276.456997</td>\n",
       "    </tr>\n",
       "    <tr>\n",
       "      <th>min</th>\n",
       "      <td>1.000000</td>\n",
       "      <td>377.058369</td>\n",
       "      <td>242.320202</td>\n",
       "    </tr>\n",
       "    <tr>\n",
       "      <th>25%</th>\n",
       "      <td>59.500000</td>\n",
       "      <td>638.875788</td>\n",
       "      <td>429.688763</td>\n",
       "    </tr>\n",
       "    <tr>\n",
       "      <th>50%</th>\n",
       "      <td>118.000000</td>\n",
       "      <td>883.984917</td>\n",
       "      <td>582.541251</td>\n",
       "    </tr>\n",
       "    <tr>\n",
       "      <th>75%</th>\n",
       "      <td>176.500000</td>\n",
       "      <td>1163.986672</td>\n",
       "      <td>743.881432</td>\n",
       "    </tr>\n",
       "    <tr>\n",
       "      <th>max</th>\n",
       "      <td>235.000000</td>\n",
       "      <td>4957.813024</td>\n",
       "      <td>2032.679190</td>\n",
       "    </tr>\n",
       "  </tbody>\n",
       "</table>\n",
       "</div>"
      ],
      "text/plain": [
       "       Unnamed: 0       income      foodexp\n",
       "count  235.000000   235.000000   235.000000\n",
       "mean   118.000000   982.473044   624.150111\n",
       "std     67.982841   519.230879   276.456997\n",
       "min      1.000000   377.058369   242.320202\n",
       "25%     59.500000   638.875788   429.688763\n",
       "50%    118.000000   883.984917   582.541251\n",
       "75%    176.500000  1163.986672   743.881432\n",
       "max    235.000000  4957.813024  2032.679190"
      ]
     },
     "execution_count": 5,
     "metadata": {},
     "output_type": "execute_result"
    }
   ],
   "source": [
    "engel.describe()"
   ]
  },
  {
   "cell_type": "code",
   "execution_count": 6,
   "metadata": {},
   "outputs": [
    {
     "name": "stdout",
     "output_type": "stream",
     "text": [
      "<class 'pandas.core.frame.DataFrame'>\n",
      "RangeIndex: 235 entries, 0 to 234\n",
      "Data columns (total 3 columns):\n",
      " #   Column      Non-Null Count  Dtype  \n",
      "---  ------      --------------  -----  \n",
      " 0   Unnamed: 0  235 non-null    int64  \n",
      " 1   income      235 non-null    float64\n",
      " 2   foodexp     235 non-null    float64\n",
      "dtypes: float64(2), int64(1)\n",
      "memory usage: 5.6 KB\n"
     ]
    }
   ],
   "source": [
    "engel.info()"
   ]
  },
  {
   "cell_type": "markdown",
   "metadata": {
    "slideshow": {
     "slide_type": "slide"
    }
   },
   "source": [
    "## 数据可视化\n",
    "\n",
    "可视化是常用的数据探索方法"
   ]
  },
  {
   "cell_type": "markdown",
   "metadata": {
    "slideshow": {
     "slide_type": "slide"
    }
   },
   "source": [
    "### 使用DataFrame的plot方法实现数据可视化"
   ]
  },
  {
   "cell_type": "code",
   "execution_count": 7,
   "metadata": {},
   "outputs": [
    {
     "data": {
      "text/plain": [
       "<AxesSubplot:xlabel='income', ylabel='foodexp'>"
      ]
     },
     "execution_count": 7,
     "metadata": {},
     "output_type": "execute_result"
    },
    {
     "data": {
      "image/png": "[encoded data removed]",
      "text/plain": [
       "<Figure size 640x480 with 1 Axes>"
      ]
     },
     "metadata": {},
     "output_type": "display_data"
    }
   ],
   "source": [
    "engel.plot(kind='scatter',x='income',y='foodexp')"
   ]
  },
  {
   "cell_type": "markdown",
   "metadata": {
    "slideshow": {
     "slide_type": "slide"
    }
   },
   "source": [
    "## 构造数据\n",
    "\n",
    "将数据变量 `income` ,与目标变量 `foodexp` ，分别提取出来，并赋值给 `X` 和 `y` 。"
   ]
  },
  {
   "cell_type": "code",
   "execution_count": 8,
   "metadata": {},
   "outputs": [],
   "source": [
    "X = pd.DataFrame(engel[\"income\"])\n",
    "\n",
    "X = X.values.reshape(-1, 1)    #由于sklearn2.0版本后只接受2维数据，所以要将rm转化为2维矩阵，\n",
    "                             #reshape(-1,1)是变成一个列数为1的2维数组,\n",
    "                             #其中参数1表示1列，参数-1表示行数由数据结构自行决定\n",
    "    \n",
    "y = engel[\"foodexp\"].values.reshape(-1, 1)\n"
   ]
  },
  {
   "cell_type": "markdown",
   "metadata": {
    "slideshow": {
     "slide_type": "slide"
    }
   },
   "source": [
    "**（另一种可视化-使用matplotlib库）**"
   ]
  },
  {
   "cell_type": "code",
   "execution_count": 51,
   "metadata": {
    "scrolled": true
   },
   "outputs": [
    {
     "data": {
      "text/plain": [
       "<function matplotlib.pyplot.show(close=None, block=None)>"
      ]
     },
     "execution_count": 51,
     "metadata": {},
     "output_type": "execute_result"
    },
    {
     "data": {
      "image/png": "[encoded data removed]",
      "text/plain": [
       "<Figure size 640x480 with 1 Axes>"
      ]
     },
     "metadata": {},
     "output_type": "display_data"
    }
   ],
   "source": [
    "from matplotlib import pyplot as plt\n",
    "plt.plot(X, y, \"ob\")\n",
    "plt.show"
   ]
  },
  {
   "cell_type": "markdown",
   "metadata": {
    "slideshow": {
     "slide_type": "slide"
    }
   },
   "source": [
    "## 线性回归\n",
    "\n",
    "使用 `LinearRegression` 的 `fit` 方法，格式为`.fit([数据变量],[目标变量])`\n",
    "\n",
    "[sklearn官网](https://scikit-learn.org/stable/index.html)\n",
    "\n",
    "[sklearn官网LinearRegression文档](https://scikit-learn.org/stable/modules/generated/sklearn.linear_model.LinearRegression.html#sklearn.linear_model.LinearRegression)\n",
    "\n"
   ]
  },
  {
   "cell_type": "code",
   "execution_count": 52,
   "metadata": {},
   "outputs": [
    {
     "data": {
      "text/plain": [
       "LinearRegression()"
      ]
     },
     "execution_count": 52,
     "metadata": {},
     "output_type": "execute_result"
    }
   ],
   "source": [
    "from sklearn import linear_model\n",
    "\n",
    "reg = linear_model.LinearRegression()\n",
    "\n",
    "reg.fit(X, y) "
   ]
  },
  {
   "cell_type": "markdown",
   "metadata": {
    "slideshow": {
     "slide_type": "slide"
    }
   },
   "source": [
    "* 拟合完成后就可以使用 `model.coef_` 和 `model.intercept_` 方法察看回归系数和结局。\n",
    "\n",
    "* 使用 `model.score([数据变量],[目标变量])` 评估拟合效果。\n",
    "\n",
    "* 对于不同的机器学习算法，sklearn会使用不同的评价指标\n",
    "\n",
    "* 在线性回归算法中，使用 $R^2$ 测度"
   ]
  },
  {
   "cell_type": "code",
   "execution_count": 53,
   "metadata": {},
   "outputs": [
    {
     "name": "stdout",
     "output_type": "stream",
     "text": [
      "[[0.48517842]]\n",
      "[147.47538852]\n",
      "0.8303645671059077\n",
      "The linear model is: Y = 147.475389 + 0.485178X\n",
      "The linear model is: Y = 147.48 + 0.48518X\n"
     ]
    }
   ],
   "source": [
    "print(reg.coef_)             # 回归系数\n",
    "print(reg.intercept_)        # 截距\n",
    "print(reg.score(X, y))       # R^2，拟合优度\n",
    "                             # score是拟合效果评分，对于不同的机器学习算法，sklearn会使用不同的评价指标\n",
    "                             # 在线性回归算法中，使用R^2测度\n",
    "# 打印拟合好的线性函数        \n",
    "print(\"The linear model is: Y = %f + %fX\" %(reg.intercept_[0], reg.coef_[0][0]))\n",
    "print(\"The linear model is: Y = {:.5} + {:.5}X\".format(reg.intercept_[0], reg.coef_[0][0]))"
   ]
  },
  {
   "cell_type": "markdown",
   "metadata": {
    "slideshow": {
     "slide_type": "slide"
    }
   },
   "source": [
    "## 查看拟合效果"
   ]
  },
  {
   "cell_type": "code",
   "execution_count": 54,
   "metadata": {},
   "outputs": [
    {
     "name": "stdout",
     "output_type": "stream",
     "text": [
      "MSE:12909.807\n",
      "R2:0.830\n"
     ]
    }
   ],
   "source": [
    "from sklearn.metrics import r2_score\n",
    "from sklearn.metrics import mean_squared_error\n",
    "\n",
    "Y_train = y\n",
    "Y_pred = reg.predict(X)\n",
    "\n",
    "print('MSE:%.3f' %mean_squared_error(Y_train, Y_pred))\n",
    "print('R2:%.3f' %r2_score(Y_train, Y_pred))\n",
    "\n"
   ]
  },
  {
   "cell_type": "markdown",
   "metadata": {
    "slideshow": {
     "slide_type": "slide"
    }
   },
   "source": [
    "## 可视化\n",
    "\n",
    "对于线性方程 $\\hat y = \\beta x + \\alpha$\n",
    "\n",
    "由于我们已经获得了 $\\beta$ 和 $\\alpha$\n",
    "\n",
    "可以通过 `reg.coef_[0] * x + reg.intercept_` 预测 x 对应的 y 值，从而绘制拟合曲线。"
   ]
  },
  {
   "cell_type": "code",
   "execution_count": 55,
   "metadata": {},
   "outputs": [
    {
     "data": {
      "text/plain": [
       "<function matplotlib.pyplot.show(close=None, block=None)>"
      ]
     },
     "execution_count": 55,
     "metadata": {},
     "output_type": "execute_result"
    },
    {
     "data": {
      "image/png": "[encoded data removed]",
      "text/plain": [
       "<Figure size 640x480 with 1 Axes>"
      ]
     },
     "metadata": {},
     "output_type": "display_data"
    }
   ],
   "source": [
    "import numpy as np\n",
    "plt.plot(X, y, \"ob\")\n",
    "x = np.arange(5000)\n",
    "y_hat = reg.coef_[0] * x + reg.intercept_\n",
    "plt.plot(x, y_hat, \"r\")\n",
    "plt.show"
   ]
  },
  {
   "cell_type": "markdown",
   "metadata": {
    "slideshow": {
     "slide_type": "slide"
    }
   },
   "source": [
    "# Boston房价数据集分析\n",
    "---"
   ]
  },
  {
   "cell_type": "markdown",
   "metadata": {
    "slideshow": {
     "slide_type": "slide"
    }
   },
   "source": [
    "## 获取数据\n",
    "---"
   ]
  },
  {
   "cell_type": "code",
   "execution_count": 60,
   "metadata": {},
   "outputs": [
    {
     "data": {
      "text/html": [
       "<div>\n",
       "<style scoped>\n",
       "    .dataframe tbody tr th:only-of-type {\n",
       "        vertical-align: middle;\n",
       "    }\n",
       "\n",
       "    .dataframe tbody tr th {\n",
       "        vertical-align: top;\n",
       "    }\n",
       "\n",
       "    .dataframe thead th {\n",
       "        text-align: right;\n",
       "    }\n",
       "</style>\n",
       "<table border=\"1\" class=\"dataframe\">\n",
       "  <thead>\n",
       "    <tr style=\"text-align: right;\">\n",
       "      <th></th>\n",
       "      <th>Unnamed: 0</th>\n",
       "      <th>crim</th>\n",
       "      <th>zn</th>\n",
       "      <th>indus</th>\n",
       "      <th>chas</th>\n",
       "      <th>nox</th>\n",
       "      <th>rm</th>\n",
       "      <th>age</th>\n",
       "      <th>dis</th>\n",
       "      <th>rad</th>\n",
       "      <th>tax</th>\n",
       "      <th>ptratio</th>\n",
       "      <th>black</th>\n",
       "      <th>lstat</th>\n",
       "      <th>medv</th>\n",
       "    </tr>\n",
       "  </thead>\n",
       "  <tbody>\n",
       "    <tr>\n",
       "      <th>count</th>\n",
       "      <td>506.000000</td>\n",
       "      <td>506.000000</td>\n",
       "      <td>506.000000</td>\n",
       "      <td>506.000000</td>\n",
       "      <td>506.000000</td>\n",
       "      <td>506.000000</td>\n",
       "      <td>506.000000</td>\n",
       "      <td>506.000000</td>\n",
       "      <td>506.000000</td>\n",
       "      <td>506.000000</td>\n",
       "      <td>506.000000</td>\n",
       "      <td>506.000000</td>\n",
       "      <td>506.000000</td>\n",
       "      <td>506.000000</td>\n",
       "      <td>506.000000</td>\n",
       "    </tr>\n",
       "    <tr>\n",
       "      <th>mean</th>\n",
       "      <td>253.500000</td>\n",
       "      <td>3.613524</td>\n",
       "      <td>11.363636</td>\n",
       "      <td>11.136779</td>\n",
       "      <td>0.069170</td>\n",
       "      <td>0.554695</td>\n",
       "      <td>6.284634</td>\n",
       "      <td>68.574901</td>\n",
       "      <td>3.795043</td>\n",
       "      <td>9.549407</td>\n",
       "      <td>408.237154</td>\n",
       "      <td>18.455534</td>\n",
       "      <td>356.674032</td>\n",
       "      <td>12.653063</td>\n",
       "      <td>22.532806</td>\n",
       "    </tr>\n",
       "    <tr>\n",
       "      <th>std</th>\n",
       "      <td>146.213884</td>\n",
       "      <td>8.601545</td>\n",
       "      <td>23.322453</td>\n",
       "      <td>6.860353</td>\n",
       "      <td>0.253994</td>\n",
       "      <td>0.115878</td>\n",
       "      <td>0.702617</td>\n",
       "      <td>28.148861</td>\n",
       "      <td>2.105710</td>\n",
       "      <td>8.707259</td>\n",
       "      <td>168.537116</td>\n",
       "      <td>2.164946</td>\n",
       "      <td>91.294864</td>\n",
       "      <td>7.141062</td>\n",
       "      <td>9.197104</td>\n",
       "    </tr>\n",
       "    <tr>\n",
       "      <th>min</th>\n",
       "      <td>1.000000</td>\n",
       "      <td>0.006320</td>\n",
       "      <td>0.000000</td>\n",
       "      <td>0.460000</td>\n",
       "      <td>0.000000</td>\n",
       "      <td>0.385000</td>\n",
       "      <td>3.561000</td>\n",
       "      <td>2.900000</td>\n",
       "      <td>1.129600</td>\n",
       "      <td>1.000000</td>\n",
       "      <td>187.000000</td>\n",
       "      <td>12.600000</td>\n",
       "      <td>0.320000</td>\n",
       "      <td>1.730000</td>\n",
       "      <td>5.000000</td>\n",
       "    </tr>\n",
       "    <tr>\n",
       "      <th>25%</th>\n",
       "      <td>127.250000</td>\n",
       "      <td>0.082045</td>\n",
       "      <td>0.000000</td>\n",
       "      <td>5.190000</td>\n",
       "      <td>0.000000</td>\n",
       "      <td>0.449000</td>\n",
       "      <td>5.885500</td>\n",
       "      <td>45.025000</td>\n",
       "      <td>2.100175</td>\n",
       "      <td>4.000000</td>\n",
       "      <td>279.000000</td>\n",
       "      <td>17.400000</td>\n",
       "      <td>375.377500</td>\n",
       "      <td>6.950000</td>\n",
       "      <td>17.025000</td>\n",
       "    </tr>\n",
       "    <tr>\n",
       "      <th>50%</th>\n",
       "      <td>253.500000</td>\n",
       "      <td>0.256510</td>\n",
       "      <td>0.000000</td>\n",
       "      <td>9.690000</td>\n",
       "      <td>0.000000</td>\n",
       "      <td>0.538000</td>\n",
       "      <td>6.208500</td>\n",
       "      <td>77.500000</td>\n",
       "      <td>3.207450</td>\n",
       "      <td>5.000000</td>\n",
       "      <td>330.000000</td>\n",
       "      <td>19.050000</td>\n",
       "      <td>391.440000</td>\n",
       "      <td>11.360000</td>\n",
       "      <td>21.200000</td>\n",
       "    </tr>\n",
       "    <tr>\n",
       "      <th>75%</th>\n",
       "      <td>379.750000</td>\n",
       "      <td>3.677083</td>\n",
       "      <td>12.500000</td>\n",
       "      <td>18.100000</td>\n",
       "      <td>0.000000</td>\n",
       "      <td>0.624000</td>\n",
       "      <td>6.623500</td>\n",
       "      <td>94.075000</td>\n",
       "      <td>5.188425</td>\n",
       "      <td>24.000000</td>\n",
       "      <td>666.000000</td>\n",
       "      <td>20.200000</td>\n",
       "      <td>396.225000</td>\n",
       "      <td>16.955000</td>\n",
       "      <td>25.000000</td>\n",
       "    </tr>\n",
       "    <tr>\n",
       "      <th>max</th>\n",
       "      <td>506.000000</td>\n",
       "      <td>88.976200</td>\n",
       "      <td>100.000000</td>\n",
       "      <td>27.740000</td>\n",
       "      <td>1.000000</td>\n",
       "      <td>0.871000</td>\n",
       "      <td>8.780000</td>\n",
       "      <td>100.000000</td>\n",
       "      <td>12.126500</td>\n",
       "      <td>24.000000</td>\n",
       "      <td>711.000000</td>\n",
       "      <td>22.000000</td>\n",
       "      <td>396.900000</td>\n",
       "      <td>37.970000</td>\n",
       "      <td>50.000000</td>\n",
       "    </tr>\n",
       "  </tbody>\n",
       "</table>\n",
       "</div>"
      ],
      "text/plain": [
       "       Unnamed: 0        crim          zn       indus        chas         nox  \\\n",
       "count  506.000000  506.000000  506.000000  506.000000  506.000000  506.000000   \n",
       "mean   253.500000    3.613524   11.363636   11.136779    0.069170    0.554695   \n",
       "std    146.213884    8.601545   23.322453    6.860353    0.253994    0.115878   \n",
       "min      1.000000    0.006320    0.000000    0.460000    0.000000    0.385000   \n",
       "25%    127.250000    0.082045    0.000000    5.190000    0.000000    0.449000   \n",
       "50%    253.500000    0.256510    0.000000    9.690000    0.000000    0.538000   \n",
       "75%    379.750000    3.677083   12.500000   18.100000    0.000000    0.624000   \n",
       "max    506.000000   88.976200  100.000000   27.740000    1.000000    0.871000   \n",
       "\n",
       "               rm         age         dis         rad         tax     ptratio  \\\n",
       "count  506.000000  506.000000  506.000000  506.000000  506.000000  506.000000   \n",
       "mean     6.284634   68.574901    3.795043    9.549407  408.237154   18.455534   \n",
       "std      0.702617   28.148861    2.105710    8.707259  168.537116    2.164946   \n",
       "min      3.561000    2.900000    1.129600    1.000000  187.000000   12.600000   \n",
       "25%      5.885500   45.025000    2.100175    4.000000  279.000000   17.400000   \n",
       "50%      6.208500   77.500000    3.207450    5.000000  330.000000   19.050000   \n",
       "75%      6.623500   94.075000    5.188425   24.000000  666.000000   20.200000   \n",
       "max      8.780000  100.000000   12.126500   24.000000  711.000000   22.000000   \n",
       "\n",
       "            black       lstat        medv  \n",
       "count  506.000000  506.000000  506.000000  \n",
       "mean   356.674032   12.653063   22.532806  \n",
       "std     91.294864    7.141062    9.197104  \n",
       "min      0.320000    1.730000    5.000000  \n",
       "25%    375.377500    6.950000   17.025000  \n",
       "50%    391.440000   11.360000   21.200000  \n",
       "75%    396.225000   16.955000   25.000000  \n",
       "max    396.900000   37.970000   50.000000  "
      ]
     },
     "execution_count": 60,
     "metadata": {},
     "output_type": "execute_result"
    }
   ],
   "source": [
    "import pandas as pd\n",
    "Boston = pd.read_csv(\"Boston.csv\")\n",
    "Boston.describe()\n"
   ]
  },
  {
   "cell_type": "markdown",
   "metadata": {
    "slideshow": {
     "slide_type": "slide"
    }
   },
   "source": [
    "**目标变量**为medv（房价中位数）\n",
    "\n",
    "**特征变量包括：**\n",
    "\n",
    "平均房间数**rm**、\n",
    "\n",
    "房屋年龄**age**(1940 年之前建造房屋比重)、\n",
    "\n",
    "黑人所占比重之平方**black**、\n",
    "\n",
    "低端人口所占百分比**lstat**、\n",
    "\n",
    "人均犯罪率**crim**、\n",
    "\n",
    "可建25,000 平方英尺以上大院的住宅用地比例**zn**、\n",
    "\n",
    "非零售商业用地比例**indus**、\n",
    "\n",
    "生师比 **ptratio(pupil-teacher ratio)** 、\n",
    "\n",
    "房产税率**tax**、\n",
    "\n",
    "是否毗邻查尔斯河**chas**、\n",
    "\n",
    "距离波士顿五个就业中心的加权平均距离**dis**、\n",
    "\n",
    "高速公路可达性指标**rad**、\n",
    "\n",
    "氮氧化物浓度**nox**。\n",
    "\n",
    "*其中，有些变量由于缺乏社区数据，以“镇”(town)的数据替代，比如black、crim、indus 与ptratio。*"
   ]
  },
  {
   "cell_type": "markdown",
   "metadata": {
    "slideshow": {
     "slide_type": "slide"
    }
   },
   "source": [
    "## 用平均房间数（rm）对房价中位数（medv）进行线性回归。"
   ]
  },
  {
   "cell_type": "code",
   "execution_count": 50,
   "metadata": {},
   "outputs": [
    {
     "name": "stdout",
     "output_type": "stream",
     "text": [
      "回归系数： [[9.10210898]]\n",
      "截距：-34.670621\n",
      "R^2:0.483525\n",
      "R^2:0.483525\n",
      "The linear model is: Y = -34.671 + 9.1021X\n",
      "MSE: 43.60055177116956\n"
     ]
    }
   ],
   "source": [
    "from sklearn import linear_model\n",
    "from sklearn.metrics import r2_score\n",
    "\n",
    "reg = linear_model.LinearRegression()\n",
    "\n",
    "rm = pd.DataFrame(Boston[\"rm\"])\n",
    "rm.values.reshape(-1,1)    #由于sklearn2.0版本后只接受2维数据，所以要将rm转化为2维矩阵\n",
    "medv = Boston[\"medv\"].values.reshape(-1,1)\n",
    "reg.fit(rm,medv)\n",
    "\n",
    "print(\"回归系数：\",reg.coef_)    #回归系数\n",
    "print(\"截距：%f\"%reg.intercept_)    #截距\n",
    "print(\"R^2:%f\"%reg.score(rm, medv))\n",
    "print(\"R^2:%f\"%r2_score(medv, reg.predict(rm)))   #R^2，拟合优度\n",
    "\n",
    "print(\"The linear model is: Y = {:.5} + {:.5}X\".format(reg.intercept_[0], reg.coef_[0][0]))\n",
    "0\n",
    "from sklearn import metrics\n",
    "print (\"MSE:\", metrics.mean_squared_error(medv, reg.predict(rm)))"
   ]
  },
  {
   "cell_type": "code",
   "execution_count": 51,
   "metadata": {
    "slideshow": {
     "slide_type": "slide"
    }
   },
   "outputs": [
    {
     "data": {
      "image/png": "[encoded data removed]",
      "text/plain": [
       "<Figure size 432x288 with 1 Axes>"
      ]
     },
     "metadata": {
      "needs_background": "light"
     },
     "output_type": "display_data"
    }
   ],
   "source": [
    "plt.plot(rm,medv,'ob')\n",
    "plt.plot(rm,-34.671+9.1021*rm,'r')\n",
    "plt.show()"
   ]
  },
  {
   "cell_type": "markdown",
   "metadata": {
    "slideshow": {
     "slide_type": "slide"
    }
   },
   "source": [
    "## 统计学分析"
   ]
  },
  {
   "cell_type": "code",
   "execution_count": 52,
   "metadata": {},
   "outputs": [
    {
     "name": "stdout",
     "output_type": "stream",
     "text": [
      "                            OLS Regression Results                            \n",
      "==============================================================================\n",
      "Dep. Variable:                   medv   R-squared:                       0.484\n",
      "Model:                            OLS   Adj. R-squared:                  0.483\n",
      "Method:                 Least Squares   F-statistic:                     471.8\n",
      "Date:                Thu, 19 May 2022   Prob (F-statistic):           2.49e-74\n",
      "Time:                        22:41:46   Log-Likelihood:                -1673.1\n",
      "No. Observations:                 506   AIC:                             3350.\n",
      "Df Residuals:                     504   BIC:                             3359.\n",
      "Df Model:                           1                                         \n",
      "Covariance Type:            nonrobust                                         \n",
      "==============================================================================\n",
      "                 coef    std err          t      P>|t|      [0.025      0.975]\n",
      "------------------------------------------------------------------------------\n",
      "const        -34.6706      2.650    -13.084      0.000     -39.877     -29.465\n",
      "rm             9.1021      0.419     21.722      0.000       8.279       9.925\n",
      "==============================================================================\n",
      "Omnibus:                      102.585   Durbin-Watson:                   0.684\n",
      "Prob(Omnibus):                  0.000   Jarque-Bera (JB):              612.449\n",
      "Skew:                           0.726   Prob(JB):                    1.02e-133\n",
      "Kurtosis:                       8.190   Cond. No.                         58.4\n",
      "==============================================================================\n",
      "\n",
      "Notes:\n",
      "[1] Standard Errors assume that the covariance matrix of the errors is correctly specified.\n"
     ]
    }
   ],
   "source": [
    "import statsmodels.api as sm\n",
    "\n",
    "X = Boston[\"rm\"]\n",
    "\n",
    "y = Boston[\"medv\"]\n",
    "\n",
    "X2 = sm.add_constant(X)\n",
    "est = sm.OLS(y, X2)\n",
    "est2 = est.fit()\n",
    "print(est2.summary())"
   ]
  },
  {
   "cell_type": "markdown",
   "metadata": {
    "slideshow": {
     "slide_type": "slide"
    }
   },
   "source": [
    "## 用平均房间数（rm）和房屋年龄（age）对房价中位数（medv）进行线性回归。"
   ]
  },
  {
   "cell_type": "code",
   "execution_count": 53,
   "metadata": {},
   "outputs": [
    {
     "name": "stdout",
     "output_type": "stream",
     "text": [
      "回归系数： [ 8.40158122 -0.07277679]\n",
      "截距：-25.277399\n",
      "R^2:0.530275\n"
     ]
    }
   ],
   "source": [
    "rm_age = pd.DataFrame(Boston[[\"rm\", \"age\"]])\n",
    "medv = Boston[\"medv\"]\n",
    "reg.fit(rm_age,medv)\n",
    "\n",
    "print(\"回归系数：\",reg.coef_)    #回归系数\n",
    "print(\"截距：%f\"%reg.intercept_)    #截距\n",
    "print(\"R^2:%f\"%reg.score(rm_age, medv))   #R^2，拟合优度\n"
   ]
  },
  {
   "cell_type": "markdown",
   "metadata": {
    "slideshow": {
     "slide_type": "slide"
    }
   },
   "source": [
    "# 线性回归预测和验证\n",
    "---"
   ]
  },
  {
   "cell_type": "markdown",
   "metadata": {
    "slideshow": {
     "slide_type": "slide"
    }
   },
   "source": [
    "# 1. 获取数据\n",
    "---\n",
    "\n",
    "sklearn中自带一些常用的数据集，点击打开链接，例如用于回归分析的波士顿房价数据集（Boston）、用于分类的鸢尾花数据集（iris）等。现选用Boston数据集，可以先调用shape()等对数据集的基本情况进行查看："
   ]
  },
  {
   "cell_type": "markdown",
   "metadata": {},
   "source": [
    "**sklearn自带波士顿房价数据集**\n",
    "\n",
    "亦可使用`sklearn.datasets.load_boston()`导入数据\n",
    "\n",
    "参见：[sklearn提供的自带的数据集](https://www.cnblogs.com/nolonely/p/6980160.html)\n"
   ]
  },
  {
   "cell_type": "code",
   "execution_count": 61,
   "metadata": {
    "collapsed": true
   },
   "outputs": [
    {
     "name": "stderr",
     "output_type": "stream",
     "text": [
      "E:\\Python\\python39\\lib\\site-packages\\sklearn\\utils\\deprecation.py:87: FutureWarning: Function load_boston is deprecated; `load_boston` is deprecated in 1.0 and will be removed in 1.2.\n",
      "\n",
      "    The Boston housing prices dataset has an ethical problem. You can refer to\n",
      "    the documentation of this function for further details.\n",
      "\n",
      "    The scikit-learn maintainers therefore strongly discourage the use of this\n",
      "    dataset unless the purpose of the code is to study and educate about\n",
      "    ethical issues in data science and machine learning.\n",
      "\n",
      "    In this special case, you can fetch the dataset from the original\n",
      "    source::\n",
      "\n",
      "        import pandas as pd\n",
      "        import numpy as np\n",
      "\n",
      "\n",
      "        data_url = \"http://lib.stat.cmu.edu/datasets/boston\"\n",
      "        raw_df = pd.read_csv(data_url, sep=\"\\s+\", skiprows=22, header=None)\n",
      "        data = np.hstack([raw_df.values[::2, :], raw_df.values[1::2, :2]])\n",
      "        target = raw_df.values[1::2, 2]\n",
      "\n",
      "    Alternative datasets include the California housing dataset (i.e.\n",
      "    :func:`~sklearn.datasets.fetch_california_housing`) and the Ames housing\n",
      "    dataset. You can load the datasets as follows::\n",
      "\n",
      "        from sklearn.datasets import fetch_california_housing\n",
      "        housing = fetch_california_housing()\n",
      "\n",
      "    for the California housing dataset and::\n",
      "\n",
      "        from sklearn.datasets import fetch_openml\n",
      "        housing = fetch_openml(name=\"house_prices\", as_frame=True)\n",
      "\n",
      "    for the Ames housing dataset.\n",
      "    \n",
      "  warnings.warn(msg, category=FutureWarning)\n"
     ]
    }
   ],
   "source": [
    "from sklearn import datasets\n",
    "from numpy import shape\n",
    "loaded_data = datasets.load_boston()"
   ]
  },
  {
   "cell_type": "code",
   "execution_count": 2,
   "metadata": {
    "scrolled": true
   },
   "outputs": [
    {
     "data": {
      "text/plain": [
       "{'data': array([[6.3200e-03, 1.8000e+01, 2.3100e+00, ..., 1.5300e+01, 3.9690e+02,\n",
       "         4.9800e+00],\n",
       "        [2.7310e-02, 0.0000e+00, 7.0700e+00, ..., 1.7800e+01, 3.9690e+02,\n",
       "         9.1400e+00],\n",
       "        [2.7290e-02, 0.0000e+00, 7.0700e+00, ..., 1.7800e+01, 3.9283e+02,\n",
       "         4.0300e+00],\n",
       "        ...,\n",
       "        [6.0760e-02, 0.0000e+00, 1.1930e+01, ..., 2.1000e+01, 3.9690e+02,\n",
       "         5.6400e+00],\n",
       "        [1.0959e-01, 0.0000e+00, 1.1930e+01, ..., 2.1000e+01, 3.9345e+02,\n",
       "         6.4800e+00],\n",
       "        [4.7410e-02, 0.0000e+00, 1.1930e+01, ..., 2.1000e+01, 3.9690e+02,\n",
       "         7.8800e+00]]),\n",
       " 'target': array([24. , 21.6, 34.7, 33.4, 36.2, 28.7, 22.9, 27.1, 16.5, 18.9, 15. ,\n",
       "        18.9, 21.7, 20.4, 18.2, 19.9, 23.1, 17.5, 20.2, 18.2, 13.6, 19.6,\n",
       "        15.2, 14.5, 15.6, 13.9, 16.6, 14.8, 18.4, 21. , 12.7, 14.5, 13.2,\n",
       "        13.1, 13.5, 18.9, 20. , 21. , 24.7, 30.8, 34.9, 26.6, 25.3, 24.7,\n",
       "        21.2, 19.3, 20. , 16.6, 14.4, 19.4, 19.7, 20.5, 25. , 23.4, 18.9,\n",
       "        35.4, 24.7, 31.6, 23.3, 19.6, 18.7, 16. , 22.2, 25. , 33. , 23.5,\n",
       "        19.4, 22. , 17.4, 20.9, 24.2, 21.7, 22.8, 23.4, 24.1, 21.4, 20. ,\n",
       "        20.8, 21.2, 20.3, 28. , 23.9, 24.8, 22.9, 23.9, 26.6, 22.5, 22.2,\n",
       "        23.6, 28.7, 22.6, 22. , 22.9, 25. , 20.6, 28.4, 21.4, 38.7, 43.8,\n",
       "        33.2, 27.5, 26.5, 18.6, 19.3, 20.1, 19.5, 19.5, 20.4, 19.8, 19.4,\n",
       "        21.7, 22.8, 18.8, 18.7, 18.5, 18.3, 21.2, 19.2, 20.4, 19.3, 22. ,\n",
       "        20.3, 20.5, 17.3, 18.8, 21.4, 15.7, 16.2, 18. , 14.3, 19.2, 19.6,\n",
       "        23. , 18.4, 15.6, 18.1, 17.4, 17.1, 13.3, 17.8, 14. , 14.4, 13.4,\n",
       "        15.6, 11.8, 13.8, 15.6, 14.6, 17.8, 15.4, 21.5, 19.6, 15.3, 19.4,\n",
       "        17. , 15.6, 13.1, 41.3, 24.3, 23.3, 27. , 50. , 50. , 50. , 22.7,\n",
       "        25. , 50. , 23.8, 23.8, 22.3, 17.4, 19.1, 23.1, 23.6, 22.6, 29.4,\n",
       "        23.2, 24.6, 29.9, 37.2, 39.8, 36.2, 37.9, 32.5, 26.4, 29.6, 50. ,\n",
       "        32. , 29.8, 34.9, 37. , 30.5, 36.4, 31.1, 29.1, 50. , 33.3, 30.3,\n",
       "        34.6, 34.9, 32.9, 24.1, 42.3, 48.5, 50. , 22.6, 24.4, 22.5, 24.4,\n",
       "        20. , 21.7, 19.3, 22.4, 28.1, 23.7, 25. , 23.3, 28.7, 21.5, 23. ,\n",
       "        26.7, 21.7, 27.5, 30.1, 44.8, 50. , 37.6, 31.6, 46.7, 31.5, 24.3,\n",
       "        31.7, 41.7, 48.3, 29. , 24. , 25.1, 31.5, 23.7, 23.3, 22. , 20.1,\n",
       "        22.2, 23.7, 17.6, 18.5, 24.3, 20.5, 24.5, 26.2, 24.4, 24.8, 29.6,\n",
       "        42.8, 21.9, 20.9, 44. , 50. , 36. , 30.1, 33.8, 43.1, 48.8, 31. ,\n",
       "        36.5, 22.8, 30.7, 50. , 43.5, 20.7, 21.1, 25.2, 24.4, 35.2, 32.4,\n",
       "        32. , 33.2, 33.1, 29.1, 35.1, 45.4, 35.4, 46. , 50. , 32.2, 22. ,\n",
       "        20.1, 23.2, 22.3, 24.8, 28.5, 37.3, 27.9, 23.9, 21.7, 28.6, 27.1,\n",
       "        20.3, 22.5, 29. , 24.8, 22. , 26.4, 33.1, 36.1, 28.4, 33.4, 28.2,\n",
       "        22.8, 20.3, 16.1, 22.1, 19.4, 21.6, 23.8, 16.2, 17.8, 19.8, 23.1,\n",
       "        21. , 23.8, 23.1, 20.4, 18.5, 25. , 24.6, 23. , 22.2, 19.3, 22.6,\n",
       "        19.8, 17.1, 19.4, 22.2, 20.7, 21.1, 19.5, 18.5, 20.6, 19. , 18.7,\n",
       "        32.7, 16.5, 23.9, 31.2, 17.5, 17.2, 23.1, 24.5, 26.6, 22.9, 24.1,\n",
       "        18.6, 30.1, 18.2, 20.6, 17.8, 21.7, 22.7, 22.6, 25. , 19.9, 20.8,\n",
       "        16.8, 21.9, 27.5, 21.9, 23.1, 50. , 50. , 50. , 50. , 50. , 13.8,\n",
       "        13.8, 15. , 13.9, 13.3, 13.1, 10.2, 10.4, 10.9, 11.3, 12.3,  8.8,\n",
       "         7.2, 10.5,  7.4, 10.2, 11.5, 15.1, 23.2,  9.7, 13.8, 12.7, 13.1,\n",
       "        12.5,  8.5,  5. ,  6.3,  5.6,  7.2, 12.1,  8.3,  8.5,  5. , 11.9,\n",
       "        27.9, 17.2, 27.5, 15. , 17.2, 17.9, 16.3,  7. ,  7.2,  7.5, 10.4,\n",
       "         8.8,  8.4, 16.7, 14.2, 20.8, 13.4, 11.7,  8.3, 10.2, 10.9, 11. ,\n",
       "         9.5, 14.5, 14.1, 16.1, 14.3, 11.7, 13.4,  9.6,  8.7,  8.4, 12.8,\n",
       "        10.5, 17.1, 18.4, 15.4, 10.8, 11.8, 14.9, 12.6, 14.1, 13. , 13.4,\n",
       "        15.2, 16.1, 17.8, 14.9, 14.1, 12.7, 13.5, 14.9, 20. , 16.4, 17.7,\n",
       "        19.5, 20.2, 21.4, 19.9, 19. , 19.1, 19.1, 20.1, 19.9, 19.6, 23.2,\n",
       "        29.8, 13.8, 13.3, 16.7, 12. , 14.6, 21.4, 23. , 23.7, 25. , 21.8,\n",
       "        20.6, 21.2, 19.1, 20.6, 15.2,  7. ,  8.1, 13.6, 20.1, 21.8, 24.5,\n",
       "        23.1, 19.7, 18.3, 21.2, 17.5, 16.8, 22.4, 20.6, 23.9, 22. , 11.9]),\n",
       " 'feature_names': array(['CRIM', 'ZN', 'INDUS', 'CHAS', 'NOX', 'RM', 'AGE', 'DIS', 'RAD',\n",
       "        'TAX', 'PTRATIO', 'B', 'LSTAT'], dtype='<U7'),\n",
       " 'DESCR': \".. _boston_dataset:\\n\\nBoston house prices dataset\\n---------------------------\\n\\n**Data Set Characteristics:**  \\n\\n    :Number of Instances: 506 \\n\\n    :Number of Attributes: 13 numeric/categorical predictive. Median Value (attribute 14) is usually the target.\\n\\n    :Attribute Information (in order):\\n        - CRIM     per capita crime rate by town\\n        - ZN       proportion of residential land zoned for lots over 25,000 sq.ft.\\n        - INDUS    proportion of non-retail business acres per town\\n        - CHAS     Charles River dummy variable (= 1 if tract bounds river; 0 otherwise)\\n        - NOX      nitric oxides concentration (parts per 10 million)\\n        - RM       average number of rooms per dwelling\\n        - AGE      proportion of owner-occupied units built prior to 1940\\n        - DIS      weighted distances to five Boston employment centres\\n        - RAD      index of accessibility to radial highways\\n        - TAX      full-value property-tax rate per $10,000\\n        - PTRATIO  pupil-teacher ratio by town\\n        - B        1000(Bk - 0.63)^2 where Bk is the proportion of black people by town\\n        - LSTAT    % lower status of the population\\n        - MEDV     Median value of owner-occupied homes in $1000's\\n\\n    :Missing Attribute Values: None\\n\\n    :Creator: Harrison, D. and Rubinfeld, D.L.\\n\\nThis is a copy of UCI ML housing dataset.\\nhttps://archive.ics.uci.edu/ml/machine-learning-databases/housing/\\n\\n\\nThis dataset was taken from the StatLib library which is maintained at Carnegie Mellon University.\\n\\nThe Boston house-price data of Harrison, D. and Rubinfeld, D.L. 'Hedonic\\nprices and the demand for clean air', J. Environ. Economics & Management,\\nvol.5, 81-102, 1978.   Used in Belsley, Kuh & Welsch, 'Regression diagnostics\\n...', Wiley, 1980.   N.B. Various transformations are used in the table on\\npages 244-261 of the latter.\\n\\nThe Boston house-price data has been used in many machine learning papers that address regression\\nproblems.   \\n     \\n.. topic:: References\\n\\n   - Belsley, Kuh & Welsch, 'Regression diagnostics: Identifying Influential Data and Sources of Collinearity', Wiley, 1980. 244-261.\\n   - Quinlan,R. (1993). Combining Instance-Based and Model-Based Learning. In Proceedings on the Tenth International Conference of Machine Learning, 236-243, University of Massachusetts, Amherst. Morgan Kaufmann.\\n\",\n",
       " 'filename': 'boston_house_prices.csv',\n",
       " 'data_module': 'sklearn.datasets.data'}"
      ]
     },
     "execution_count": 2,
     "metadata": {},
     "output_type": "execute_result"
    }
   ],
   "source": [
    "loaded_data"
   ]
  },
  {
   "cell_type": "code",
   "execution_count": 56,
   "metadata": {
    "slideshow": {
     "slide_type": "slide"
    }
   },
   "outputs": [
    {
     "data": {
      "text/plain": [
       "dict_keys(['data', 'target', 'feature_names', 'DESCR', 'filename', 'data_module'])"
      ]
     },
     "execution_count": 56,
     "metadata": {},
     "output_type": "execute_result"
    }
   ],
   "source": [
    "loaded_data.keys()"
   ]
  },
  {
   "cell_type": "code",
   "execution_count": 57,
   "metadata": {
    "slideshow": {
     "slide_type": "slide"
    }
   },
   "outputs": [
    {
     "data": {
      "text/plain": [
       "array(['CRIM', 'ZN', 'INDUS', 'CHAS', 'NOX', 'RM', 'AGE', 'DIS', 'RAD',\n",
       "       'TAX', 'PTRATIO', 'B', 'LSTAT'], dtype='<U7')"
      ]
     },
     "execution_count": 57,
     "metadata": {},
     "output_type": "execute_result"
    }
   ],
   "source": [
    "loaded_data['feature_names']"
   ]
  },
  {
   "cell_type": "code",
   "execution_count": 58,
   "metadata": {
    "scrolled": true
   },
   "outputs": [
    {
     "name": "stdout",
     "output_type": "stream",
     "text": [
      ".. _boston_dataset:\n",
      "\n",
      "Boston house prices dataset\n",
      "---------------------------\n",
      "\n",
      "**Data Set Characteristics:**  \n",
      "\n",
      "    :Number of Instances: 506 \n",
      "\n",
      "    :Number of Attributes: 13 numeric/categorical predictive. Median Value (attribute 14) is usually the target.\n",
      "\n",
      "    :Attribute Information (in order):\n",
      "        - CRIM     per capita crime rate by town\n",
      "        - ZN       proportion of residential land zoned for lots over 25,000 sq.ft.\n",
      "        - INDUS    proportion of non-retail business acres per town\n",
      "        - CHAS     Charles River dummy variable (= 1 if tract bounds river; 0 otherwise)\n",
      "        - NOX      nitric oxides concentration (parts per 10 million)\n",
      "        - RM       average number of rooms per dwelling\n",
      "        - AGE      proportion of owner-occupied units built prior to 1940\n",
      "        - DIS      weighted distances to five Boston employment centres\n",
      "        - RAD      index of accessibility to radial highways\n",
      "        - TAX      full-value property-tax rate per $10,000\n",
      "        - PTRATIO  pupil-teacher ratio by town\n",
      "        - B        1000(Bk - 0.63)^2 where Bk is the proportion of black people by town\n",
      "        - LSTAT    % lower status of the population\n",
      "        - MEDV     Median value of owner-occupied homes in $1000's\n",
      "\n",
      "    :Missing Attribute Values: None\n",
      "\n",
      "    :Creator: Harrison, D. and Rubinfeld, D.L.\n",
      "\n",
      "This is a copy of UCI ML housing dataset.\n",
      "https://archive.ics.uci.edu/ml/machine-learning-databases/housing/\n",
      "\n",
      "\n",
      "This dataset was taken from the StatLib library which is maintained at Carnegie Mellon University.\n",
      "\n",
      "The Boston house-price data of Harrison, D. and Rubinfeld, D.L. 'Hedonic\n",
      "prices and the demand for clean air', J. Environ. Economics & Management,\n",
      "vol.5, 81-102, 1978.   Used in Belsley, Kuh & Welsch, 'Regression diagnostics\n",
      "...', Wiley, 1980.   N.B. Various transformations are used in the table on\n",
      "pages 244-261 of the latter.\n",
      "\n",
      "The Boston house-price data has been used in many machine learning papers that address regression\n",
      "problems.   \n",
      "     \n",
      ".. topic:: References\n",
      "\n",
      "   - Belsley, Kuh & Welsch, 'Regression diagnostics: Identifying Influential Data and Sources of Collinearity', Wiley, 1980. 244-261.\n",
      "   - Quinlan,R. (1993). Combining Instance-Based and Model-Based Learning. In Proceedings on the Tenth International Conference of Machine Learning, 236-243, University of Massachusetts, Amherst. Morgan Kaufmann.\n",
      "\n"
     ]
    }
   ],
   "source": [
    "print(loaded_data[\"DESCR\"])"
   ]
  },
  {
   "cell_type": "markdown",
   "metadata": {},
   "source": [
    "**由于波士顿房价数据集在scikit-learn 1.2版本中从自带数据集中剔除，我们还是从csv文件中读取数据**"
   ]
  },
  {
   "cell_type": "code",
   "execution_count": 62,
   "metadata": {},
   "outputs": [
    {
     "data": {
      "text/html": [
       "<div>\n",
       "<style scoped>\n",
       "    .dataframe tbody tr th:only-of-type {\n",
       "        vertical-align: middle;\n",
       "    }\n",
       "\n",
       "    .dataframe tbody tr th {\n",
       "        vertical-align: top;\n",
       "    }\n",
       "\n",
       "    .dataframe thead th {\n",
       "        text-align: right;\n",
       "    }\n",
       "</style>\n",
       "<table border=\"1\" class=\"dataframe\">\n",
       "  <thead>\n",
       "    <tr style=\"text-align: right;\">\n",
       "      <th></th>\n",
       "      <th>Unnamed: 0</th>\n",
       "      <th>crim</th>\n",
       "      <th>zn</th>\n",
       "      <th>indus</th>\n",
       "      <th>chas</th>\n",
       "      <th>nox</th>\n",
       "      <th>rm</th>\n",
       "      <th>age</th>\n",
       "      <th>dis</th>\n",
       "      <th>rad</th>\n",
       "      <th>tax</th>\n",
       "      <th>ptratio</th>\n",
       "      <th>black</th>\n",
       "      <th>lstat</th>\n",
       "      <th>medv</th>\n",
       "    </tr>\n",
       "  </thead>\n",
       "  <tbody>\n",
       "    <tr>\n",
       "      <th>count</th>\n",
       "      <td>506.000000</td>\n",
       "      <td>506.000000</td>\n",
       "      <td>506.000000</td>\n",
       "      <td>506.000000</td>\n",
       "      <td>506.000000</td>\n",
       "      <td>506.000000</td>\n",
       "      <td>506.000000</td>\n",
       "      <td>506.000000</td>\n",
       "      <td>506.000000</td>\n",
       "      <td>506.000000</td>\n",
       "      <td>506.000000</td>\n",
       "      <td>506.000000</td>\n",
       "      <td>506.000000</td>\n",
       "      <td>506.000000</td>\n",
       "      <td>506.000000</td>\n",
       "    </tr>\n",
       "    <tr>\n",
       "      <th>mean</th>\n",
       "      <td>253.500000</td>\n",
       "      <td>3.613524</td>\n",
       "      <td>11.363636</td>\n",
       "      <td>11.136779</td>\n",
       "      <td>0.069170</td>\n",
       "      <td>0.554695</td>\n",
       "      <td>6.284634</td>\n",
       "      <td>68.574901</td>\n",
       "      <td>3.795043</td>\n",
       "      <td>9.549407</td>\n",
       "      <td>408.237154</td>\n",
       "      <td>18.455534</td>\n",
       "      <td>356.674032</td>\n",
       "      <td>12.653063</td>\n",
       "      <td>22.532806</td>\n",
       "    </tr>\n",
       "    <tr>\n",
       "      <th>std</th>\n",
       "      <td>146.213884</td>\n",
       "      <td>8.601545</td>\n",
       "      <td>23.322453</td>\n",
       "      <td>6.860353</td>\n",
       "      <td>0.253994</td>\n",
       "      <td>0.115878</td>\n",
       "      <td>0.702617</td>\n",
       "      <td>28.148861</td>\n",
       "      <td>2.105710</td>\n",
       "      <td>8.707259</td>\n",
       "      <td>168.537116</td>\n",
       "      <td>2.164946</td>\n",
       "      <td>91.294864</td>\n",
       "      <td>7.141062</td>\n",
       "      <td>9.197104</td>\n",
       "    </tr>\n",
       "    <tr>\n",
       "      <th>min</th>\n",
       "      <td>1.000000</td>\n",
       "      <td>0.006320</td>\n",
       "      <td>0.000000</td>\n",
       "      <td>0.460000</td>\n",
       "      <td>0.000000</td>\n",
       "      <td>0.385000</td>\n",
       "      <td>3.561000</td>\n",
       "      <td>2.900000</td>\n",
       "      <td>1.129600</td>\n",
       "      <td>1.000000</td>\n",
       "      <td>187.000000</td>\n",
       "      <td>12.600000</td>\n",
       "      <td>0.320000</td>\n",
       "      <td>1.730000</td>\n",
       "      <td>5.000000</td>\n",
       "    </tr>\n",
       "    <tr>\n",
       "      <th>25%</th>\n",
       "      <td>127.250000</td>\n",
       "      <td>0.082045</td>\n",
       "      <td>0.000000</td>\n",
       "      <td>5.190000</td>\n",
       "      <td>0.000000</td>\n",
       "      <td>0.449000</td>\n",
       "      <td>5.885500</td>\n",
       "      <td>45.025000</td>\n",
       "      <td>2.100175</td>\n",
       "      <td>4.000000</td>\n",
       "      <td>279.000000</td>\n",
       "      <td>17.400000</td>\n",
       "      <td>375.377500</td>\n",
       "      <td>6.950000</td>\n",
       "      <td>17.025000</td>\n",
       "    </tr>\n",
       "    <tr>\n",
       "      <th>50%</th>\n",
       "      <td>253.500000</td>\n",
       "      <td>0.256510</td>\n",
       "      <td>0.000000</td>\n",
       "      <td>9.690000</td>\n",
       "      <td>0.000000</td>\n",
       "      <td>0.538000</td>\n",
       "      <td>6.208500</td>\n",
       "      <td>77.500000</td>\n",
       "      <td>3.207450</td>\n",
       "      <td>5.000000</td>\n",
       "      <td>330.000000</td>\n",
       "      <td>19.050000</td>\n",
       "      <td>391.440000</td>\n",
       "      <td>11.360000</td>\n",
       "      <td>21.200000</td>\n",
       "    </tr>\n",
       "    <tr>\n",
       "      <th>75%</th>\n",
       "      <td>379.750000</td>\n",
       "      <td>3.677083</td>\n",
       "      <td>12.500000</td>\n",
       "      <td>18.100000</td>\n",
       "      <td>0.000000</td>\n",
       "      <td>0.624000</td>\n",
       "      <td>6.623500</td>\n",
       "      <td>94.075000</td>\n",
       "      <td>5.188425</td>\n",
       "      <td>24.000000</td>\n",
       "      <td>666.000000</td>\n",
       "      <td>20.200000</td>\n",
       "      <td>396.225000</td>\n",
       "      <td>16.955000</td>\n",
       "      <td>25.000000</td>\n",
       "    </tr>\n",
       "    <tr>\n",
       "      <th>max</th>\n",
       "      <td>506.000000</td>\n",
       "      <td>88.976200</td>\n",
       "      <td>100.000000</td>\n",
       "      <td>27.740000</td>\n",
       "      <td>1.000000</td>\n",
       "      <td>0.871000</td>\n",
       "      <td>8.780000</td>\n",
       "      <td>100.000000</td>\n",
       "      <td>12.126500</td>\n",
       "      <td>24.000000</td>\n",
       "      <td>711.000000</td>\n",
       "      <td>22.000000</td>\n",
       "      <td>396.900000</td>\n",
       "      <td>37.970000</td>\n",
       "      <td>50.000000</td>\n",
       "    </tr>\n",
       "  </tbody>\n",
       "</table>\n",
       "</div>"
      ],
      "text/plain": [
       "       Unnamed: 0        crim          zn       indus        chas         nox  \\\n",
       "count  506.000000  506.000000  506.000000  506.000000  506.000000  506.000000   \n",
       "mean   253.500000    3.613524   11.363636   11.136779    0.069170    0.554695   \n",
       "std    146.213884    8.601545   23.322453    6.860353    0.253994    0.115878   \n",
       "min      1.000000    0.006320    0.000000    0.460000    0.000000    0.385000   \n",
       "25%    127.250000    0.082045    0.000000    5.190000    0.000000    0.449000   \n",
       "50%    253.500000    0.256510    0.000000    9.690000    0.000000    0.538000   \n",
       "75%    379.750000    3.677083   12.500000   18.100000    0.000000    0.624000   \n",
       "max    506.000000   88.976200  100.000000   27.740000    1.000000    0.871000   \n",
       "\n",
       "               rm         age         dis         rad         tax     ptratio  \\\n",
       "count  506.000000  506.000000  506.000000  506.000000  506.000000  506.000000   \n",
       "mean     6.284634   68.574901    3.795043    9.549407  408.237154   18.455534   \n",
       "std      0.702617   28.148861    2.105710    8.707259  168.537116    2.164946   \n",
       "min      3.561000    2.900000    1.129600    1.000000  187.000000   12.600000   \n",
       "25%      5.885500   45.025000    2.100175    4.000000  279.000000   17.400000   \n",
       "50%      6.208500   77.500000    3.207450    5.000000  330.000000   19.050000   \n",
       "75%      6.623500   94.075000    5.188425   24.000000  666.000000   20.200000   \n",
       "max      8.780000  100.000000   12.126500   24.000000  711.000000   22.000000   \n",
       "\n",
       "            black       lstat        medv  \n",
       "count  506.000000  506.000000  506.000000  \n",
       "mean   356.674032   12.653063   22.532806  \n",
       "std     91.294864    7.141062    9.197104  \n",
       "min      0.320000    1.730000    5.000000  \n",
       "25%    375.377500    6.950000   17.025000  \n",
       "50%    391.440000   11.360000   21.200000  \n",
       "75%    396.225000   16.955000   25.000000  \n",
       "max    396.900000   37.970000   50.000000  "
      ]
     },
     "execution_count": 62,
     "metadata": {},
     "output_type": "execute_result"
    }
   ],
   "source": [
    "#读取csv文件\n",
    "import pandas as pd\n",
    "Boston = pd.read_csv(\"Boston.csv\")\n",
    "Boston.describe()"
   ]
  },
  {
   "cell_type": "code",
   "execution_count": 63,
   "metadata": {},
   "outputs": [],
   "source": [
    "#删除第一列\n",
    "Boston.drop([Boston.columns[0]], axis=1, inplace=True)"
   ]
  },
  {
   "cell_type": "code",
   "execution_count": 64,
   "metadata": {},
   "outputs": [
    {
     "data": {
      "text/html": [
       "<div>\n",
       "<style scoped>\n",
       "    .dataframe tbody tr th:only-of-type {\n",
       "        vertical-align: middle;\n",
       "    }\n",
       "\n",
       "    .dataframe tbody tr th {\n",
       "        vertical-align: top;\n",
       "    }\n",
       "\n",
       "    .dataframe thead th {\n",
       "        text-align: right;\n",
       "    }\n",
       "</style>\n",
       "<table border=\"1\" class=\"dataframe\">\n",
       "  <thead>\n",
       "    <tr style=\"text-align: right;\">\n",
       "      <th></th>\n",
       "      <th>crim</th>\n",
       "      <th>zn</th>\n",
       "      <th>indus</th>\n",
       "      <th>chas</th>\n",
       "      <th>nox</th>\n",
       "      <th>rm</th>\n",
       "      <th>age</th>\n",
       "      <th>dis</th>\n",
       "      <th>rad</th>\n",
       "      <th>tax</th>\n",
       "      <th>ptratio</th>\n",
       "      <th>black</th>\n",
       "      <th>lstat</th>\n",
       "      <th>medv</th>\n",
       "    </tr>\n",
       "  </thead>\n",
       "  <tbody>\n",
       "    <tr>\n",
       "      <th>0</th>\n",
       "      <td>0.00632</td>\n",
       "      <td>18.0</td>\n",
       "      <td>2.31</td>\n",
       "      <td>0</td>\n",
       "      <td>0.538</td>\n",
       "      <td>6.575</td>\n",
       "      <td>65.2</td>\n",
       "      <td>4.0900</td>\n",
       "      <td>1</td>\n",
       "      <td>296</td>\n",
       "      <td>15.3</td>\n",
       "      <td>396.90</td>\n",
       "      <td>4.98</td>\n",
       "      <td>24.0</td>\n",
       "    </tr>\n",
       "    <tr>\n",
       "      <th>1</th>\n",
       "      <td>0.02731</td>\n",
       "      <td>0.0</td>\n",
       "      <td>7.07</td>\n",
       "      <td>0</td>\n",
       "      <td>0.469</td>\n",
       "      <td>6.421</td>\n",
       "      <td>78.9</td>\n",
       "      <td>4.9671</td>\n",
       "      <td>2</td>\n",
       "      <td>242</td>\n",
       "      <td>17.8</td>\n",
       "      <td>396.90</td>\n",
       "      <td>9.14</td>\n",
       "      <td>21.6</td>\n",
       "    </tr>\n",
       "    <tr>\n",
       "      <th>2</th>\n",
       "      <td>0.02729</td>\n",
       "      <td>0.0</td>\n",
       "      <td>7.07</td>\n",
       "      <td>0</td>\n",
       "      <td>0.469</td>\n",
       "      <td>7.185</td>\n",
       "      <td>61.1</td>\n",
       "      <td>4.9671</td>\n",
       "      <td>2</td>\n",
       "      <td>242</td>\n",
       "      <td>17.8</td>\n",
       "      <td>392.83</td>\n",
       "      <td>4.03</td>\n",
       "      <td>34.7</td>\n",
       "    </tr>\n",
       "    <tr>\n",
       "      <th>3</th>\n",
       "      <td>0.03237</td>\n",
       "      <td>0.0</td>\n",
       "      <td>2.18</td>\n",
       "      <td>0</td>\n",
       "      <td>0.458</td>\n",
       "      <td>6.998</td>\n",
       "      <td>45.8</td>\n",
       "      <td>6.0622</td>\n",
       "      <td>3</td>\n",
       "      <td>222</td>\n",
       "      <td>18.7</td>\n",
       "      <td>394.63</td>\n",
       "      <td>2.94</td>\n",
       "      <td>33.4</td>\n",
       "    </tr>\n",
       "    <tr>\n",
       "      <th>4</th>\n",
       "      <td>0.06905</td>\n",
       "      <td>0.0</td>\n",
       "      <td>2.18</td>\n",
       "      <td>0</td>\n",
       "      <td>0.458</td>\n",
       "      <td>7.147</td>\n",
       "      <td>54.2</td>\n",
       "      <td>6.0622</td>\n",
       "      <td>3</td>\n",
       "      <td>222</td>\n",
       "      <td>18.7</td>\n",
       "      <td>396.90</td>\n",
       "      <td>5.33</td>\n",
       "      <td>36.2</td>\n",
       "    </tr>\n",
       "  </tbody>\n",
       "</table>\n",
       "</div>"
      ],
      "text/plain": [
       "      crim    zn  indus  chas    nox     rm   age     dis  rad  tax  ptratio  \\\n",
       "0  0.00632  18.0   2.31     0  0.538  6.575  65.2  4.0900    1  296     15.3   \n",
       "1  0.02731   0.0   7.07     0  0.469  6.421  78.9  4.9671    2  242     17.8   \n",
       "2  0.02729   0.0   7.07     0  0.469  7.185  61.1  4.9671    2  242     17.8   \n",
       "3  0.03237   0.0   2.18     0  0.458  6.998  45.8  6.0622    3  222     18.7   \n",
       "4  0.06905   0.0   2.18     0  0.458  7.147  54.2  6.0622    3  222     18.7   \n",
       "\n",
       "    black  lstat  medv  \n",
       "0  396.90   4.98  24.0  \n",
       "1  396.90   9.14  21.6  \n",
       "2  392.83   4.03  34.7  \n",
       "3  394.63   2.94  33.4  \n",
       "4  396.90   5.33  36.2  "
      ]
     },
     "execution_count": 64,
     "metadata": {},
     "output_type": "execute_result"
    }
   ],
   "source": [
    "#查看前5行数据\n",
    "Boston.head()"
   ]
  },
  {
   "cell_type": "code",
   "execution_count": 65,
   "metadata": {},
   "outputs": [
    {
     "name": "stdout",
     "output_type": "stream",
     "text": [
      "(506, 13)\n",
      "(506,)\n"
     ]
    }
   ],
   "source": [
    "data_X = Boston.iloc[:,:-1]  #提取所有特征变量，赋值给data_X；使用iloc方法可以简化代码\n",
    "data_y = Boston.iloc[:,-1]   #提取所有目标变量，赋值给data_y\n",
    "print(shape(data_X))\n",
    "print(shape(data_y))"
   ]
  },
  {
   "cell_type": "code",
   "execution_count": 66,
   "metadata": {},
   "outputs": [
    {
     "name": "stdout",
     "output_type": "stream",
     "text": [
      "      crim    zn  indus  chas    nox     rm   age     dis  rad  tax  ptratio  \\\n",
      "0  0.00632  18.0   2.31     0  0.538  6.575  65.2  4.0900    1  296     15.3   \n",
      "1  0.02731   0.0   7.07     0  0.469  6.421  78.9  4.9671    2  242     17.8   \n",
      "\n",
      "   black  lstat  \n",
      "0  396.9   4.98  \n",
      "1  396.9   9.14  \n",
      "\n",
      "\n",
      "0    24.0\n",
      "1    21.6\n",
      "Name: medv, dtype: float64\n"
     ]
    }
   ],
   "source": [
    "print(data_X.iloc[:2, :])\n",
    "print(\"\\n\")\n",
    "print(data_y.iloc[:2])"
   ]
  },
  {
   "cell_type": "markdown",
   "metadata": {
    "slideshow": {
     "slide_type": "slide"
    }
   },
   "source": [
    "## 2.划分训练集和测试集。\n",
    "\n",
    "我们将20%的样本划分为测试集，80%为训练集，即test_size=0.2，同样我们也可以调用shape()来查看划分结果：\n",
    "\n",
    "`train_test_split(特征变量, 目标变量, test_size=测试集比例, random_state=随机数种子)`"
   ]
  },
  {
   "cell_type": "code",
   "execution_count": 67,
   "metadata": {},
   "outputs": [
    {
     "name": "stdout",
     "output_type": "stream",
     "text": [
      "(404, 13)\n",
      "(102, 13)\n"
     ]
    }
   ],
   "source": [
    "from sklearn.model_selection import train_test_split\n",
    "X_train, X_test, y_train, y_test = train_test_split(data_X, data_y, test_size=0.2, random_state=100)\n",
    "print(shape(X_train))\n",
    "print(shape(X_test))"
   ]
  },
  {
   "cell_type": "markdown",
   "metadata": {
    "slideshow": {
     "slide_type": "slide"
    }
   },
   "source": [
    "## 3.运行线性模型。\n",
    "\n",
    "我们选用sklearn中基于最小二乘的线性回归模型，并用训练集进行拟合，得到拟合直线$y=wx+b$中的权重参数w和b：\n",
    "\n",
    "`from sklearn.linear_model import LinearRegression`\n"
   ]
  },
  {
   "cell_type": "code",
   "execution_count": 68,
   "metadata": {},
   "outputs": [
    {
     "name": "stdout",
     "output_type": "stream",
     "text": [
      "[-8.14896492e-02  4.80407782e-02 -5.47150249e-03  3.06260576e+00\n",
      " -1.61368815e+01  3.67245067e+00 -8.51525259e-03 -1.51740854e+00\n",
      "  2.87271007e-01 -1.21207598e-02 -9.24160757e-01  9.53460812e-03\n",
      " -4.85895548e-01]\n",
      "36.333770285507654\n"
     ]
    }
   ],
   "source": [
    "from sklearn.linear_model import LinearRegression    # 导入线性回归函数\n",
    "model = LinearRegression()                            \n",
    "model.fit(X_train, y_train)                          # 使用训练集数据拟合模型\n",
    "print(model.coef_)                                  # 打印回归系数  \n",
    "print(model.intercept_)                             # 打印截距项"
   ]
  },
  {
   "cell_type": "markdown",
   "metadata": {},
   "source": [
    "**构建DataFrame，更直观的显示回归系数**"
   ]
  },
  {
   "cell_type": "code",
   "execution_count": 69,
   "metadata": {},
   "outputs": [
    {
     "data": {
      "text/html": [
       "<div>\n",
       "<style scoped>\n",
       "    .dataframe tbody tr th:only-of-type {\n",
       "        vertical-align: middle;\n",
       "    }\n",
       "\n",
       "    .dataframe tbody tr th {\n",
       "        vertical-align: top;\n",
       "    }\n",
       "\n",
       "    .dataframe thead th {\n",
       "        text-align: right;\n",
       "    }\n",
       "</style>\n",
       "<table border=\"1\" class=\"dataframe\">\n",
       "  <thead>\n",
       "    <tr style=\"text-align: right;\">\n",
       "      <th></th>\n",
       "      <th>feature</th>\n",
       "      <th>coef</th>\n",
       "    </tr>\n",
       "  </thead>\n",
       "  <tbody>\n",
       "    <tr>\n",
       "      <th>0</th>\n",
       "      <td>crim</td>\n",
       "      <td>-0.081490</td>\n",
       "    </tr>\n",
       "    <tr>\n",
       "      <th>1</th>\n",
       "      <td>zn</td>\n",
       "      <td>0.048041</td>\n",
       "    </tr>\n",
       "    <tr>\n",
       "      <th>2</th>\n",
       "      <td>indus</td>\n",
       "      <td>-0.005472</td>\n",
       "    </tr>\n",
       "    <tr>\n",
       "      <th>3</th>\n",
       "      <td>chas</td>\n",
       "      <td>3.062606</td>\n",
       "    </tr>\n",
       "    <tr>\n",
       "      <th>4</th>\n",
       "      <td>nox</td>\n",
       "      <td>-16.136881</td>\n",
       "    </tr>\n",
       "    <tr>\n",
       "      <th>5</th>\n",
       "      <td>rm</td>\n",
       "      <td>3.672451</td>\n",
       "    </tr>\n",
       "    <tr>\n",
       "      <th>6</th>\n",
       "      <td>age</td>\n",
       "      <td>-0.008515</td>\n",
       "    </tr>\n",
       "    <tr>\n",
       "      <th>7</th>\n",
       "      <td>dis</td>\n",
       "      <td>-1.517409</td>\n",
       "    </tr>\n",
       "    <tr>\n",
       "      <th>8</th>\n",
       "      <td>rad</td>\n",
       "      <td>0.287271</td>\n",
       "    </tr>\n",
       "    <tr>\n",
       "      <th>9</th>\n",
       "      <td>tax</td>\n",
       "      <td>-0.012121</td>\n",
       "    </tr>\n",
       "    <tr>\n",
       "      <th>10</th>\n",
       "      <td>ptratio</td>\n",
       "      <td>-0.924161</td>\n",
       "    </tr>\n",
       "    <tr>\n",
       "      <th>11</th>\n",
       "      <td>black</td>\n",
       "      <td>0.009535</td>\n",
       "    </tr>\n",
       "    <tr>\n",
       "      <th>12</th>\n",
       "      <td>lstat</td>\n",
       "      <td>-0.485896</td>\n",
       "    </tr>\n",
       "  </tbody>\n",
       "</table>\n",
       "</div>"
      ],
      "text/plain": [
       "    feature       coef\n",
       "0      crim  -0.081490\n",
       "1        zn   0.048041\n",
       "2     indus  -0.005472\n",
       "3      chas   3.062606\n",
       "4       nox -16.136881\n",
       "5        rm   3.672451\n",
       "6       age  -0.008515\n",
       "7       dis  -1.517409\n",
       "8       rad   0.287271\n",
       "9       tax  -0.012121\n",
       "10  ptratio  -0.924161\n",
       "11    black   0.009535\n",
       "12    lstat  -0.485896"
      ]
     },
     "execution_count": 69,
     "metadata": {},
     "output_type": "execute_result"
    }
   ],
   "source": [
    "#特征名为一列，特征的回归系数为一列，构建dataframe\n",
    "coef_boston = pd.DataFrame({'feature':data_X.columns, 'coef':model.coef_})\n",
    "coef_boston"
   ]
  },
  {
   "cell_type": "code",
   "execution_count": 71,
   "metadata": {},
   "outputs": [
    {
     "data": {
      "text/html": [
       "<div>\n",
       "<style scoped>\n",
       "    .dataframe tbody tr th:only-of-type {\n",
       "        vertical-align: middle;\n",
       "    }\n",
       "\n",
       "    .dataframe tbody tr th {\n",
       "        vertical-align: top;\n",
       "    }\n",
       "\n",
       "    .dataframe thead th {\n",
       "        text-align: right;\n",
       "    }\n",
       "</style>\n",
       "<table border=\"1\" class=\"dataframe\">\n",
       "  <thead>\n",
       "    <tr style=\"text-align: right;\">\n",
       "      <th></th>\n",
       "      <th>coef</th>\n",
       "    </tr>\n",
       "  </thead>\n",
       "  <tbody>\n",
       "    <tr>\n",
       "      <th>crim</th>\n",
       "      <td>-0.081490</td>\n",
       "    </tr>\n",
       "    <tr>\n",
       "      <th>zn</th>\n",
       "      <td>0.048041</td>\n",
       "    </tr>\n",
       "    <tr>\n",
       "      <th>indus</th>\n",
       "      <td>-0.005472</td>\n",
       "    </tr>\n",
       "    <tr>\n",
       "      <th>chas</th>\n",
       "      <td>3.062606</td>\n",
       "    </tr>\n",
       "    <tr>\n",
       "      <th>nox</th>\n",
       "      <td>-16.136881</td>\n",
       "    </tr>\n",
       "    <tr>\n",
       "      <th>rm</th>\n",
       "      <td>3.672451</td>\n",
       "    </tr>\n",
       "    <tr>\n",
       "      <th>age</th>\n",
       "      <td>-0.008515</td>\n",
       "    </tr>\n",
       "    <tr>\n",
       "      <th>dis</th>\n",
       "      <td>-1.517409</td>\n",
       "    </tr>\n",
       "    <tr>\n",
       "      <th>rad</th>\n",
       "      <td>0.287271</td>\n",
       "    </tr>\n",
       "    <tr>\n",
       "      <th>tax</th>\n",
       "      <td>-0.012121</td>\n",
       "    </tr>\n",
       "    <tr>\n",
       "      <th>ptratio</th>\n",
       "      <td>-0.924161</td>\n",
       "    </tr>\n",
       "    <tr>\n",
       "      <th>black</th>\n",
       "      <td>0.009535</td>\n",
       "    </tr>\n",
       "    <tr>\n",
       "      <th>lstat</th>\n",
       "      <td>-0.485896</td>\n",
       "    </tr>\n",
       "  </tbody>\n",
       "</table>\n",
       "</div>"
      ],
      "text/plain": [
       "              coef\n",
       "crim     -0.081490\n",
       "zn        0.048041\n",
       "indus    -0.005472\n",
       "chas      3.062606\n",
       "nox     -16.136881\n",
       "rm        3.672451\n",
       "age      -0.008515\n",
       "dis      -1.517409\n",
       "rad       0.287271\n",
       "tax      -0.012121\n",
       "ptratio  -0.924161\n",
       "black     0.009535\n",
       "lstat    -0.485896"
      ]
     },
     "execution_count": 71,
     "metadata": {},
     "output_type": "execute_result"
    }
   ],
   "source": [
    "#以特征名为行索引，以回归系数为值，构建DataFrame\n",
    "coef_boston = pd.DataFrame({'coef':model.coef_}, index=data_X.columns)\n",
    "coef_boston"
   ]
  },
  {
   "cell_type": "markdown",
   "metadata": {
    "slideshow": {
     "slide_type": "slide"
    }
   },
   "source": [
    "**查看模型在训练集上的拟合效果**\n",
    "\n",
    "使用 `model.predict(X_train)` 方法计算预测值\n",
    "\n",
    "使用 `sklearn` 中的 `metrics.mean_squared_error(真实值, 预测值)` 方法计算MSE\n",
    "\n",
    "使用 `sklearn` 中的 `metrics.r2_score(真实值, 预测值)` 方法计算 $R^2$"
   ]
  },
  {
   "cell_type": "code",
   "execution_count": 72,
   "metadata": {},
   "outputs": [
    {
     "name": "stdout",
     "output_type": "stream",
     "text": [
      "MSE: 21.649376911833603\n",
      "R2: 0.7337332767917557\n"
     ]
    }
   ],
   "source": [
    "y_pred = model.predict(X_train)                              \n",
    "from sklearn import metrics\n",
    "print(\"MSE:\", metrics.mean_squared_error(y_train, y_pred))\n",
    "\n",
    "from sklearn.metrics import r2_score\n",
    "print(\"R2:\",metrics.r2_score(y_train, y_pred))"
   ]
  },
  {
   "cell_type": "markdown",
   "metadata": {
    "slideshow": {
     "slide_type": "slide"
    }
   },
   "source": [
    "## 4.模型测试（泛化能力）\n",
    "\n",
    "### 测试集法\n",
    "\n",
    "利用测试集得到对应的结果，并利用均方根误差（MSE）对测试结果进行评价：\n",
    "\n",
    "` LinearRegression.predict(特征值)`"
   ]
  },
  {
   "cell_type": "code",
   "execution_count": 73,
   "metadata": {},
   "outputs": [
    {
     "data": {
      "text/plain": [
       "array([34.4081095 , 31.18524626, 22.31286141, 17.88613877, 20.43572131,\n",
       "       26.14444413, 26.21920244, 23.57978445, 22.41577853, 19.51182817,\n",
       "       26.86691495, 17.20411302, 20.68511041, 15.67921778, 41.69912781,\n",
       "       20.2946735 , 28.99258631, 19.06413492, 32.48035595, 41.13627224,\n",
       "       34.64732462, 16.38997909, 20.42215729, 18.05324255, 13.38743087,\n",
       "       12.64800748, 27.45930237, 20.30199107, 18.78954741, 20.24950994,\n",
       "       15.60161419, 24.38040555, 38.95651978, 24.7184131 , 31.26791961,\n",
       "       28.26279775, 15.84707127, 14.76661568, 16.79024244, 23.23674899,\n",
       "       22.85417065, 23.48976177, 14.16818173, 21.42613087, 32.38362329,\n",
       "       26.7881669 , 19.37574824, 15.27894103, 17.21175121, 12.91591919,\n",
       "       21.84063224, 20.25050371, 23.65622638, 23.9608324 , 11.94749102,\n",
       "       14.49718052, 24.69872363, 34.18169066, 10.30437821, 21.04686616,\n",
       "       17.96204214, 19.76593459, 17.45231513, 29.982971  , 20.73183476,\n",
       "       25.24657823, 15.81416285, 24.96705225, 22.1298931 , 20.77593563,\n",
       "       18.69600904, 24.2201495 ,  4.37889874, 15.95687399, 28.03130587,\n",
       "        9.28438308, 24.76810967, 35.14238234, 11.61172029, 27.04175401,\n",
       "       34.84290485, 40.44603313, 13.93219791, 15.95544402, 19.26007763,\n",
       "       12.76037799, 20.90536105, 23.85659356, 13.17899179, 14.76828889,\n",
       "       32.31355353, 22.93635318, 24.63095357, 23.51981407, 19.34136578,\n",
       "       22.83582245, 21.72263765, 36.18508621, 18.01097012, 23.18226475,\n",
       "       13.77270991, 14.43864146])"
      ]
     },
     "execution_count": 73,
     "metadata": {},
     "output_type": "execute_result"
    }
   ],
   "source": [
    "y_pred = model.predict(X_test)                              #根据验证集 X_test 计算相应的预测值\n",
    "y_pred"
   ]
  },
  {
   "cell_type": "code",
   "execution_count": 74,
   "metadata": {},
   "outputs": [
    {
     "name": "stdout",
     "output_type": "stream",
     "text": [
      "MSE: 23.616994100563645\n"
     ]
    }
   ],
   "source": [
    "from sklearn import metrics\n",
    "print(\"MSE:\", metrics.mean_squared_error(y_test, y_pred))    #计算MSE"
   ]
  },
  {
   "cell_type": "code",
   "execution_count": 75,
   "metadata": {
    "slideshow": {
     "slide_type": "-"
    }
   },
   "outputs": [
    {
     "name": "stdout",
     "output_type": "stream",
     "text": [
      "R2: 0.7555033086871303\n"
     ]
    }
   ],
   "source": [
    "from sklearn.metrics import r2_score\n",
    "print(\"R2:\",metrics.r2_score(y_test, y_pred))                #计算R^2"
   ]
  },
  {
   "cell_type": "markdown",
   "metadata": {
    "slideshow": {
     "slide_type": "slide"
    }
   },
   "source": [
    "### K折交叉验证\n",
    "\n",
    "`sklearn.model_selection.cross_val_score` 可以方便的计算每次交叉验证的评分。\n",
    "\n",
    "参数 `scoring` 可以选择不同的评分方式。详见 [https://scikit-learn.org/stable/modules/model_evaluation.html#scoring-parameter](https://scikit-learn.org/stable/modules/model_evaluation.html#scoring-parameter)"
   ]
  },
  {
   "cell_type": "markdown",
   "metadata": {},
   "source": [
    "$R^2$"
   ]
  },
  {
   "cell_type": "code",
   "execution_count": 76,
   "metadata": {},
   "outputs": [
    {
     "data": {
      "text/plain": [
       "array([ 0.73376082,  0.4730725 , -1.00631454,  0.64113984,  0.54766046,\n",
       "        0.73640292,  0.37828386, -0.12922703, -0.76843243,  0.4189435 ])"
      ]
     },
     "execution_count": 76,
     "metadata": {},
     "output_type": "execute_result"
    }
   ],
   "source": [
    "from sklearn.model_selection import cross_val_score\n",
    "score = cross_val_score(model, data_X, data_y, cv=10, scoring=\"r2\")\n",
    "score\n",
    "#print(\"R2:\", cross_val_score(model, data_X, data_y, cv=10, scoring='r2'))"
   ]
  },
  {
   "cell_type": "code",
   "execution_count": 77,
   "metadata": {},
   "outputs": [
    {
     "data": {
      "text/plain": [
       "(0.20252899006056016, 0.5952960169512351)"
      ]
     },
     "execution_count": 77,
     "metadata": {},
     "output_type": "execute_result"
    }
   ],
   "source": [
    "score.mean(), score.std()      #交叉验证的评分均值和标准差"
   ]
  },
  {
   "cell_type": "code",
   "execution_count": 78,
   "metadata": {},
   "outputs": [
    {
     "data": {
      "text/plain": [
       "0.20252899006056016"
      ]
     },
     "execution_count": 78,
     "metadata": {},
     "output_type": "execute_result"
    }
   ],
   "source": [
    "sum(score)/10"
   ]
  },
  {
   "cell_type": "markdown",
   "metadata": {},
   "source": [
    "$MSE$"
   ]
  },
  {
   "cell_type": "code",
   "execution_count": 79,
   "metadata": {},
   "outputs": [
    {
     "data": {
      "text/plain": [
       "array([  -9.28694671,  -14.15128316,  -14.07360615,  -35.20692433,\n",
       "        -31.88511666,  -19.83587796,   -9.94726918, -168.37537954,\n",
       "        -33.32974507,  -10.96041068])"
      ]
     },
     "execution_count": 79,
     "metadata": {},
     "output_type": "execute_result"
    }
   ],
   "source": [
    "from sklearn.model_selection import cross_val_score\n",
    "score = cross_val_score(model, data_X, data_y, cv=10, scoring=\"neg_mean_squared_error\")\n",
    "score"
   ]
  },
  {
   "cell_type": "markdown",
   "metadata": {
    "slideshow": {
     "slide_type": "slide"
    }
   },
   "source": [
    "也可以使用\n",
    "\n",
    "`sklearn.model_selection.cross_val_predict(模型, 特征变量, 目标变量, cv=K值)`\n",
    "\n",
    "计算每折交叉验证在测试集上的预测值，并求出交叉验证得到的MSE值"
   ]
  },
  {
   "cell_type": "code",
   "execution_count": 80,
   "metadata": {},
   "outputs": [
    {
     "name": "stdout",
     "output_type": "stream",
     "text": [
      "[30.04900564 24.73268691 30.36234996 28.32103823 27.54679474 24.95005201\n",
      " 22.76828807 18.96826752 10.69099639 18.38869103 18.32600667 21.2151136\n",
      " 20.67482233 19.40202976 19.02252621 19.19247283 20.53108732 16.56719839\n",
      " 16.14556027 18.27871067 12.06183163 17.36395791 15.35782636 13.30827225\n",
      " 15.25002158 13.00072901 15.07032347 14.23138876 19.13481689 20.50406407\n",
      " 10.88711375 17.71425893  8.10328694 13.88702754 13.18400457 23.76248399\n",
      " 22.26475553 23.09795323 22.88603574 31.66165856 34.54324123 27.90889033\n",
      " 25.13715879 24.49149475 22.69695788 21.9712375  20.16998059 17.4184761\n",
      "  8.1817061  16.73776047 20.93195787 24.23669423 27.85360352 24.36110652\n",
      " 15.43299525 31.19077366 24.97280986 33.54851394 21.77252458 21.24357737\n",
      " 17.97092977 18.56991958 23.97640077 22.23963354 22.80526009 31.05850231\n",
      " 26.28564522 21.38462876 17.6842577  21.04192909 25.53176898 22.17169278\n",
      " 25.04701676 24.41776731 25.97565456 24.36353678 23.35292065 23.83613546\n",
      " 21.52460215 22.96803958 28.63544312 27.23544792 26.38802581 25.44978353\n",
      " 24.9436409  27.9897942  22.43863884 26.33634473 30.76905302 30.88421162\n",
      " 27.39210868 27.70851763 29.67834392 29.93942338 27.80805505 28.92497323\n",
      " 25.08616066 35.60743988 35.03056994 32.26519023 24.59746028 25.61811391\n",
      " 20.54498733 20.57449973 21.7996183  18.77705636 17.24648879 20.99588646\n",
      " 23.02607826 19.93892566 20.64399332 26.83479438 20.95771908 20.82817802\n",
      " 25.58833952 20.65250441 23.57885385 24.10559215 20.46709801 20.90617611\n",
      " 19.8006881  20.48096767 18.43437449 13.86123645 18.49955851 20.5013552\n",
      " 12.04977924 14.08132943 17.85188314 12.8728536  19.09933422 18.49759328\n",
      " 19.22074767 14.73373173 12.28778723 16.07879217 14.74521644 18.31747433\n",
      " 12.46813013 15.22128782 11.9723311   2.01042089 12.44330743  9.59436745\n",
      "  6.06913683  9.55278059 14.08660303  5.81846075  7.07510619 12.5282049\n",
      " 18.91076553 16.5955447  18.85580574 17.835508   22.83494276 20.80440765\n",
      " 14.70952463 32.33195457 28.76442348 25.44022843 32.6152015  35.43857014\n",
      " 39.24588355 40.10960644 24.68933831 25.24646723 35.5266262  23.16696205\n",
      " 26.01851192 26.18515728 22.54958068 24.21369333 23.26606489 28.74461549\n",
      " 26.6403928  30.40333829 25.71577427 28.97724731 30.81563009 32.17649812\n",
      " 33.33917192 27.61827372 32.97251754 30.53865679 22.99597472 24.6762538\n",
      " 34.53459219 32.70058758 31.97251246 33.56647635 30.22966208 29.90244642\n",
      " 32.20406332 31.50427204 31.11539078 39.38159477 35.23243695 31.94019606\n",
      " 33.81185049 29.41395865 29.85692841 29.12282692 35.82556053 40.40077662\n",
      " 42.46383491 21.92026858 23.09558492 17.84442996 24.89013237 19.50515806\n",
      " 24.44211471 19.24352019 24.22696124 24.28315961  9.69896227 23.94816292\n",
      " 28.13659582 28.1787416  26.95619142 31.63819302 34.84252574 25.64260822\n",
      " 33.61278817 29.86289333 37.11534049 38.20778365 36.73417889 32.0821312\n",
      " 33.4819358  30.4047625  24.73815198 32.70321394 36.641163   35.72577755\n",
      " 33.1897742  25.32027685 31.74687113 32.0561082  27.88225248 28.19827488\n",
      " 26.83282997 24.19256614 24.1100325  26.73166353 17.12407013 13.75824466\n",
      " 19.63212155 20.22992569 20.89823078 22.91279729 23.21671396 24.13886425\n",
      " 23.40170105 27.24595855 24.44514537 22.81505488 37.85986454 41.4560564\n",
      " 35.37629481 34.19081432 33.7907225  35.9822857  39.30042267 33.28580714\n",
      " 34.81656876 28.23985707 30.21384255 39.40152275 38.49206186 26.42411078\n",
      " 22.79227462 27.64869735 28.6504771  35.29208637 36.75870886 34.05020372\n",
      " 35.87127843 35.45358822 30.77427703 35.23550069 38.06229503 34.15733682\n",
      " 40.09106184 44.91228788 32.03270734 27.82170278 20.95693276 27.77981528\n",
      " 27.84291441 27.42280453 34.17431693 34.96620505 32.69543199 26.26784473\n",
      " 24.85513928 28.58969344 27.50178731 19.95083866 29.86025509 32.26945989\n",
      " 31.1055611  29.16294461 29.23469909 32.93266015 32.97646474 30.82615846\n",
      " 35.95236603 33.16399768 28.96035552 24.00743779 19.32405524 27.50044098\n",
      " 23.68150148 25.88949428 25.67115786 20.79581517 17.7188336  18.56258257\n",
      " 24.57581235 21.54864965 25.11376967 25.10218127 23.12006866 19.62256689\n",
      " 25.36093764 24.855056   23.82718617 19.38893597 21.53018783 24.59546518\n",
      " 21.75220184 19.8930345  23.2683596  22.06012621 21.4601922  20.66634445\n",
      " 20.33563742 19.31982621 22.44677148 21.49924594 21.64530966 30.06709052\n",
      " 21.95683724 27.49771111 28.27740675 16.15895821 14.37287343 24.51909275\n",
      " 26.92811236 21.41789802 19.76857097 19.42258961 15.89723391 23.9995477\n",
      " 13.19641823 15.46206389 18.21317515 19.98457763 18.50646989 17.29949585\n",
      " 19.68574464 17.23594933 11.81639529 15.51605966 39.93278142  0.13375416\n",
      "  8.39099051 -1.0605184  12.48012705 26.30973905 29.38134831 20.99131102\n",
      " 19.28141782  7.35474037  1.67981585 29.09156412 21.87801276 23.25081996\n",
      " 20.77217946 19.33734747 30.63145189 21.64186623 12.85794168 12.55706888\n",
      "  2.43738905 10.51735703  6.68491687  8.89261759  6.78849629 12.03536225\n",
      " 14.768068   16.92251747  8.88269525 19.20043954 16.98275821 20.69166773\n",
      " 19.89566262 14.92666055 13.22010358 14.27527525 16.80420557 19.79219002\n",
      " 19.51865503 13.23766944 13.84663581 17.98891496  6.44247051 20.05335382\n",
      " 14.24409248 21.60639748 14.80657728 19.52413889  2.73382579 11.21343895\n",
      " -4.95365512 12.26341373 16.78987771  7.61506865  4.96886063 18.01492017\n",
      " 20.75083624 19.25347609 18.88851017 16.19948849 16.99888493 12.40078511\n",
      " 18.62207302 15.29966661 16.989741   15.9557087  20.55383998 21.3644639\n",
      " 23.99883528 20.0341374  18.19931231 16.28033669 17.52332471 11.75991801\n",
      "  7.57784148 13.50288515 12.54721303 18.31315948 19.72269292 19.07712976\n",
      " 12.89942875 15.20898649 19.25945365 18.9563459  18.2052637  18.79843626\n",
      " 20.31082048 20.96162054 19.72853293 24.28420152 18.87207467 19.30761644\n",
      " 12.61877731 12.80766548 17.3222476  18.76307482 19.22014949 20.44968245\n",
      " 20.03452385 22.87081258 20.43190798 17.75643918 14.33852211 17.03030978\n",
      " 16.99159213 18.56119351 20.35444574 23.32924524 22.6055202  25.72363254\n",
      " 16.59087872 16.11548223 20.72379788 11.56073693 19.44044689 22.16495312\n",
      " 23.64646213 27.46632887 28.98710921 21.04362395 19.32198066 22.29857058\n",
      " 19.86251972 21.3543872  10.87258314  7.08593616  2.33607188 12.83899018\n",
      " 15.01627195 20.33504447 20.1622401  16.18933129 13.64581384 18.93877025\n",
      " 21.09426608 18.26151226 20.36806946 23.65972148 22.58655452 28.08596609\n",
      " 26.54976756 22.63987499]\n",
      "506\n"
     ]
    }
   ],
   "source": [
    "from sklearn.model_selection import cross_val_predict\n",
    "predicted = cross_val_predict(model, data_X, data_y, cv=10)\n",
    "print(predicted)\n",
    "print(len(predicted))"
   ]
  },
  {
   "cell_type": "code",
   "execution_count": 81,
   "metadata": {
    "scrolled": true
   },
   "outputs": [
    {
     "name": "stdout",
     "output_type": "stream",
     "text": [
      "MSE: 34.539659539993096\n"
     ]
    }
   ],
   "source": [
    "print(\"MSE:\", metrics.mean_squared_error(data_y, predicted))"
   ]
  },
  {
   "cell_type": "code",
   "execution_count": 82,
   "metadata": {},
   "outputs": [
    {
     "name": "stdout",
     "output_type": "stream",
     "text": [
      "R2: 0.5908571294061405\n"
     ]
    }
   ],
   "source": [
    "print(\"R2:\", metrics.r2_score(data_y, predicted))"
   ]
  },
  {
   "cell_type": "markdown",
   "metadata": {},
   "source": [
    "## 6.画图。\n",
    "\n",
    "将实际房价数据与预测数据作出对比，接近中间绿色直线的数据表示预测准确："
   ]
  },
  {
   "cell_type": "code",
   "execution_count": 83,
   "metadata": {},
   "outputs": [
    {
     "data": {
      "image/png": "[encoded data removed]",
      "text/plain": [
       "<Figure size 640x480 with 1 Axes>"
      ]
     },
     "metadata": {},
     "output_type": "display_data"
    }
   ],
   "source": [
    "import matplotlib.pyplot as plt\n",
    "plt.scatter(data_y, predicted, color='y', marker='o')\n",
    "plt.scatter(data_y, data_y,color='g', marker='+')\n",
    "plt.show()"
   ]
  },
  {
   "cell_type": "markdown",
   "metadata": {},
   "source": [
    "## 7.完整代码为："
   ]
  },
  {
   "cell_type": "code",
   "execution_count": 84,
   "metadata": {},
   "outputs": [
    {
     "name": "stdout",
     "output_type": "stream",
     "text": [
      "MSE: 18.74859402434686\n",
      "MSE: 34.53965953999318\n"
     ]
    },
    {
     "name": "stderr",
     "output_type": "stream",
     "text": [
      "E:\\Python\\python39\\lib\\site-packages\\sklearn\\utils\\deprecation.py:87: FutureWarning: Function load_boston is deprecated; `load_boston` is deprecated in 1.0 and will be removed in 1.2.\n",
      "\n",
      "    The Boston housing prices dataset has an ethical problem. You can refer to\n",
      "    the documentation of this function for further details.\n",
      "\n",
      "    The scikit-learn maintainers therefore strongly discourage the use of this\n",
      "    dataset unless the purpose of the code is to study and educate about\n",
      "    ethical issues in data science and machine learning.\n",
      "\n",
      "    In this special case, you can fetch the dataset from the original\n",
      "    source::\n",
      "\n",
      "        import pandas as pd\n",
      "        import numpy as np\n",
      "\n",
      "\n",
      "        data_url = \"http://lib.stat.cmu.edu/datasets/boston\"\n",
      "        raw_df = pd.read_csv(data_url, sep=\"\\s+\", skiprows=22, header=None)\n",
      "        data = np.hstack([raw_df.values[::2, :], raw_df.values[1::2, :2]])\n",
      "        target = raw_df.values[1::2, 2]\n",
      "\n",
      "    Alternative datasets include the California housing dataset (i.e.\n",
      "    :func:`~sklearn.datasets.fetch_california_housing`) and the Ames housing\n",
      "    dataset. You can load the datasets as follows::\n",
      "\n",
      "        from sklearn.datasets import fetch_california_housing\n",
      "        housing = fetch_california_housing()\n",
      "\n",
      "    for the California housing dataset and::\n",
      "\n",
      "        from sklearn.datasets import fetch_openml\n",
      "        housing = fetch_openml(name=\"house_prices\", as_frame=True)\n",
      "\n",
      "    for the Ames housing dataset.\n",
      "    \n",
      "  warnings.warn(msg, category=FutureWarning)\n"
     ]
    },
    {
     "data": {
      "image/png": "[encoded data removed]",
      "text/plain": [
       "<Figure size 640x480 with 1 Axes>"
      ]
     },
     "metadata": {},
     "output_type": "display_data"
    }
   ],
   "source": [
    " # -*- encoding:utf-8 -*-\n",
    "\n",
    "from sklearn import datasets\n",
    "from sklearn.model_selection import train_test_split #原文中cross_validation已过时改为model_selection\n",
    "from sklearn.linear_model import LinearRegression\n",
    "import matplotlib.pyplot as plt\n",
    "from sklearn.model_selection import cross_val_predict\n",
    "from numpy import shape\n",
    " \n",
    "loaded_data = datasets.load_boston()\n",
    "data_X = loaded_data.data\n",
    "data_y = loaded_data.target\n",
    "# print(shape(data_X))\n",
    "# print(shape(data_y))\n",
    "# print(data_X[:2, :])\n",
    "# print(data_y[:2])\n",
    " \n",
    "X_train, X_test, y_train, y_test = train_test_split(data_X, data_y, test_size=0.2)\n",
    "# print(shape(X_train))\n",
    "# print shape(X_test)\n",
    " \n",
    "model = LinearRegression()\n",
    "model.fit(X_train, y_train)\n",
    "# print (model.coef_)\n",
    "# print (model.intercept_)\n",
    " \n",
    "y_pred = model.predict(X_test)\n",
    "from sklearn import metrics\n",
    "print(\"MSE:\", metrics.mean_squared_error(y_test, y_pred))\n",
    " \n",
    "predicted = cross_val_predict(model, data_X, data_y, cv=10)\n",
    "print(\"MSE:\", metrics.mean_squared_error(data_y, predicted))\n",
    " \n",
    "plt.scatter(data_y, predicted, color='y', marker='o')\n",
    "plt.scatter(data_y, data_y,color='g', marker='+')\n",
    "plt.show()"
   ]
  },
  {
   "cell_type": "code",
   "execution_count": null,
   "metadata": {},
   "outputs": [],
   "source": []
  }
 ],
 "metadata": {
  "celltoolbar": "幻灯片",
  "hide_input": false,
  "kernelspec": {
   "display_name": "Python 3",
   "language": "python",
   "name": "python3"
  },
  "language_info": {
   "codemirror_mode": {
    "name": "ipython",
    "version": 3
   },
   "file_extension": ".py",
   "mimetype": "text/x-python",
   "name": "python",
   "nbconvert_exporter": "python",
   "pygments_lexer": "ipython3",
   "version": "3.9.2"
  },
  "toc": {
   "base_numbering": 1,
   "nav_menu": {},
   "number_sections": false,
   "sideBar": true,
   "skip_h1_title": false,
   "title_cell": "Table of Contents",
   "title_sidebar": "Contents",
   "toc_cell": false,
   "toc_position": {},
   "toc_section_display": true,
   "toc_window_display": false
  }
 },
 "nbformat": 4,
 "nbformat_minor": 2
}
